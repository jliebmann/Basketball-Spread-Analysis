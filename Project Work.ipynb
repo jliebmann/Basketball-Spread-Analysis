{
 "cells": [
  {
   "cell_type": "markdown",
   "metadata": {},
   "source": [
    "# Project Work for Jason Liebmann and Mingxian Gao (Jimmy)"
   ]
  },
  {
   "cell_type": "code",
   "execution_count": 1,
   "metadata": {
    "collapsed": true
   },
   "outputs": [],
   "source": [
    "import pandas as pd\n",
    "import numpy as np\n",
    "import matplotlib.pyplot as plt\n",
    "import plotly\n",
    "import plotly.plotly as py\n",
    "import plotly.graph_objs as go\n",
    "import math"
   ]
  },
  {
   "cell_type": "code",
   "execution_count": 2,
   "metadata": {
    "collapsed": true
   },
   "outputs": [],
   "source": [
    "%matplotlib inline"
   ]
  },
  {
   "cell_type": "code",
   "execution_count": 4,
   "metadata": {
    "collapsed": true
   },
   "outputs": [],
   "source": [
    "basketball_data = pd.read_csv('2016-2017NBABoxScoresAverages1.csv')"
   ]
  },
  {
   "cell_type": "code",
   "execution_count": 5,
   "metadata": {
    "scrolled": true
   },
   "outputs": [
    {
     "data": {
      "text/html": [
       "<div>\n",
       "<style>\n",
       "    .dataframe thead tr:only-child th {\n",
       "        text-align: right;\n",
       "    }\n",
       "\n",
       "    .dataframe thead th {\n",
       "        text-align: left;\n",
       "    }\n",
       "\n",
       "    .dataframe tbody tr th {\n",
       "        vertical-align: top;\n",
       "    }\n",
       "</style>\n",
       "<table border=\"1\" class=\"dataframe\">\n",
       "  <thead>\n",
       "    <tr style=\"text-align: right;\">\n",
       "      <th></th>\n",
       "      <th>Unnamed: 0</th>\n",
       "      <th>DATE</th>\n",
       "      <th>TEAM</th>\n",
       "      <th>ID.TEAM</th>\n",
       "      <th>OPPTEAM</th>\n",
       "      <th>FGM.TEAM</th>\n",
       "      <th>FGA.TEAM</th>\n",
       "      <th>X3PM.TEAM</th>\n",
       "      <th>X3PA.TEAM</th>\n",
       "      <th>FTA.TEAM</th>\n",
       "      <th>...</th>\n",
       "      <th>AST.AVG.5.OPP</th>\n",
       "      <th>TOV.AVG.5.OPP</th>\n",
       "      <th>STL.AVG.5.OPP</th>\n",
       "      <th>BLK.AVG.5.OPP</th>\n",
       "      <th>PF.AVG.5.OPP</th>\n",
       "      <th>PTS.AVG.5.OPP</th>\n",
       "      <th>P.M.AVG.5.OPP</th>\n",
       "      <th>SPREAD</th>\n",
       "      <th>EFF.FG.TEAM</th>\n",
       "      <th>NRtg.TEAM.AVG</th>\n",
       "    </tr>\n",
       "  </thead>\n",
       "  <tbody>\n",
       "    <tr>\n",
       "      <th>0</th>\n",
       "      <td>1</td>\n",
       "      <td>2016-10-25</td>\n",
       "      <td>CLEVELAND CAVALIERS</td>\n",
       "      <td>3</td>\n",
       "      <td>NEW YORK KNICKS</td>\n",
       "      <td>45</td>\n",
       "      <td>94</td>\n",
       "      <td>13</td>\n",
       "      <td>35</td>\n",
       "      <td>14</td>\n",
       "      <td>...</td>\n",
       "      <td>0.0</td>\n",
       "      <td>0.0</td>\n",
       "      <td>0.0</td>\n",
       "      <td>0.0</td>\n",
       "      <td>0.0</td>\n",
       "      <td>0.0</td>\n",
       "      <td>0.0</td>\n",
       "      <td>29</td>\n",
       "      <td>0.0</td>\n",
       "      <td>0.0</td>\n",
       "    </tr>\n",
       "    <tr>\n",
       "      <th>1</th>\n",
       "      <td>2</td>\n",
       "      <td>2016-10-25</td>\n",
       "      <td>GOLDEN STATE WARRIORS</td>\n",
       "      <td>6</td>\n",
       "      <td>SAN ANTONIO SPURS</td>\n",
       "      <td>40</td>\n",
       "      <td>85</td>\n",
       "      <td>7</td>\n",
       "      <td>33</td>\n",
       "      <td>13</td>\n",
       "      <td>...</td>\n",
       "      <td>0.0</td>\n",
       "      <td>0.0</td>\n",
       "      <td>0.0</td>\n",
       "      <td>0.0</td>\n",
       "      <td>0.0</td>\n",
       "      <td>0.0</td>\n",
       "      <td>0.0</td>\n",
       "      <td>-29</td>\n",
       "      <td>0.0</td>\n",
       "      <td>0.0</td>\n",
       "    </tr>\n",
       "    <tr>\n",
       "      <th>2</th>\n",
       "      <td>3</td>\n",
       "      <td>2016-10-25</td>\n",
       "      <td>NEW YORK KNICKS</td>\n",
       "      <td>1</td>\n",
       "      <td>CLEVELAND CAVALIERS</td>\n",
       "      <td>32</td>\n",
       "      <td>87</td>\n",
       "      <td>9</td>\n",
       "      <td>27</td>\n",
       "      <td>15</td>\n",
       "      <td>...</td>\n",
       "      <td>0.0</td>\n",
       "      <td>0.0</td>\n",
       "      <td>0.0</td>\n",
       "      <td>0.0</td>\n",
       "      <td>0.0</td>\n",
       "      <td>0.0</td>\n",
       "      <td>0.0</td>\n",
       "      <td>-29</td>\n",
       "      <td>0.0</td>\n",
       "      <td>0.0</td>\n",
       "    </tr>\n",
       "    <tr>\n",
       "      <th>3</th>\n",
       "      <td>4</td>\n",
       "      <td>2016-10-25</td>\n",
       "      <td>PORTLAND TRAIL BLAZERS</td>\n",
       "      <td>2</td>\n",
       "      <td>UTAH JAZZ</td>\n",
       "      <td>39</td>\n",
       "      <td>75</td>\n",
       "      <td>13</td>\n",
       "      <td>19</td>\n",
       "      <td>22</td>\n",
       "      <td>...</td>\n",
       "      <td>0.0</td>\n",
       "      <td>0.0</td>\n",
       "      <td>0.0</td>\n",
       "      <td>0.0</td>\n",
       "      <td>0.0</td>\n",
       "      <td>0.0</td>\n",
       "      <td>0.0</td>\n",
       "      <td>9</td>\n",
       "      <td>0.0</td>\n",
       "      <td>0.0</td>\n",
       "    </tr>\n",
       "    <tr>\n",
       "      <th>4</th>\n",
       "      <td>5</td>\n",
       "      <td>2016-10-25</td>\n",
       "      <td>SAN ANTONIO SPURS</td>\n",
       "      <td>5</td>\n",
       "      <td>GOLDEN STATE WARRIORS</td>\n",
       "      <td>47</td>\n",
       "      <td>98</td>\n",
       "      <td>12</td>\n",
       "      <td>24</td>\n",
       "      <td>23</td>\n",
       "      <td>...</td>\n",
       "      <td>0.0</td>\n",
       "      <td>0.0</td>\n",
       "      <td>0.0</td>\n",
       "      <td>0.0</td>\n",
       "      <td>0.0</td>\n",
       "      <td>0.0</td>\n",
       "      <td>0.0</td>\n",
       "      <td>29</td>\n",
       "      <td>0.0</td>\n",
       "      <td>0.0</td>\n",
       "    </tr>\n",
       "  </tbody>\n",
       "</table>\n",
       "<p>5 rows × 107 columns</p>\n",
       "</div>"
      ],
      "text/plain": [
       "   Unnamed: 0        DATE                    TEAM  ID.TEAM  \\\n",
       "0           1  2016-10-25     CLEVELAND CAVALIERS        3   \n",
       "1           2  2016-10-25   GOLDEN STATE WARRIORS        6   \n",
       "2           3  2016-10-25         NEW YORK KNICKS        1   \n",
       "3           4  2016-10-25  PORTLAND TRAIL BLAZERS        2   \n",
       "4           5  2016-10-25       SAN ANTONIO SPURS        5   \n",
       "\n",
       "                 OPPTEAM  FGM.TEAM  FGA.TEAM  X3PM.TEAM  X3PA.TEAM  FTA.TEAM  \\\n",
       "0        NEW YORK KNICKS        45        94         13         35        14   \n",
       "1      SAN ANTONIO SPURS        40        85          7         33        13   \n",
       "2    CLEVELAND CAVALIERS        32        87          9         27        15   \n",
       "3              UTAH JAZZ        39        75         13         19        22   \n",
       "4  GOLDEN STATE WARRIORS        47        98         12         24        23   \n",
       "\n",
       "       ...        AST.AVG.5.OPP  TOV.AVG.5.OPP  STL.AVG.5.OPP  BLK.AVG.5.OPP  \\\n",
       "0      ...                  0.0            0.0            0.0            0.0   \n",
       "1      ...                  0.0            0.0            0.0            0.0   \n",
       "2      ...                  0.0            0.0            0.0            0.0   \n",
       "3      ...                  0.0            0.0            0.0            0.0   \n",
       "4      ...                  0.0            0.0            0.0            0.0   \n",
       "\n",
       "   PF.AVG.5.OPP  PTS.AVG.5.OPP  P.M.AVG.5.OPP  SPREAD  EFF.FG.TEAM  \\\n",
       "0           0.0            0.0            0.0      29          0.0   \n",
       "1           0.0            0.0            0.0     -29          0.0   \n",
       "2           0.0            0.0            0.0     -29          0.0   \n",
       "3           0.0            0.0            0.0       9          0.0   \n",
       "4           0.0            0.0            0.0      29          0.0   \n",
       "\n",
       "   NRtg.TEAM.AVG  \n",
       "0            0.0  \n",
       "1            0.0  \n",
       "2            0.0  \n",
       "3            0.0  \n",
       "4            0.0  \n",
       "\n",
       "[5 rows x 107 columns]"
      ]
     },
     "execution_count": 5,
     "metadata": {},
     "output_type": "execute_result"
    }
   ],
   "source": [
    "basketball_data.head()"
   ]
  },
  {
   "cell_type": "code",
   "execution_count": 6,
   "metadata": {
    "scrolled": true
   },
   "outputs": [
    {
     "data": {
      "text/plain": [
       "Index(['Unnamed: 0', 'DATE', 'TEAM', 'ID.TEAM', 'OPPTEAM', 'FGM.TEAM',\n",
       "       'FGA.TEAM', 'X3PM.TEAM', 'X3PA.TEAM', 'FTA.TEAM',\n",
       "       ...\n",
       "       'AST.AVG.5.OPP', 'TOV.AVG.5.OPP', 'STL.AVG.5.OPP', 'BLK.AVG.5.OPP',\n",
       "       'PF.AVG.5.OPP', 'PTS.AVG.5.OPP', 'P.M.AVG.5.OPP', 'SPREAD',\n",
       "       'EFF.FG.TEAM', 'NRtg.TEAM.AVG'],\n",
       "      dtype='object', length=107)"
      ]
     },
     "execution_count": 6,
     "metadata": {},
     "output_type": "execute_result"
    }
   ],
   "source": [
    "basketball_data.columns"
   ]
  },
  {
   "cell_type": "code",
   "execution_count": 7,
   "metadata": {},
   "outputs": [
    {
     "data": {
      "text/html": [
       "<div>\n",
       "<style>\n",
       "    .dataframe thead tr:only-child th {\n",
       "        text-align: right;\n",
       "    }\n",
       "\n",
       "    .dataframe thead th {\n",
       "        text-align: left;\n",
       "    }\n",
       "\n",
       "    .dataframe tbody tr th {\n",
       "        vertical-align: top;\n",
       "    }\n",
       "</style>\n",
       "<table border=\"1\" class=\"dataframe\">\n",
       "  <thead>\n",
       "    <tr style=\"text-align: right;\">\n",
       "      <th></th>\n",
       "      <th>DATE</th>\n",
       "      <th>TEAM</th>\n",
       "      <th>OPPTEAM</th>\n",
       "      <th>FGM.TEAM</th>\n",
       "      <th>FGA.TEAM</th>\n",
       "      <th>X3PM.TEAM</th>\n",
       "      <th>X3PA.TEAM</th>\n",
       "      <th>FTA.TEAM</th>\n",
       "      <th>FTM.TEAM</th>\n",
       "      <th>OREB.TEAM</th>\n",
       "      <th>...</th>\n",
       "      <th>OREB.OPP</th>\n",
       "      <th>DREB.OPP</th>\n",
       "      <th>REB.OPP</th>\n",
       "      <th>AST.OPP</th>\n",
       "      <th>TOV.OPP</th>\n",
       "      <th>STL.OPP</th>\n",
       "      <th>BLK.OPP</th>\n",
       "      <th>PF.OPP</th>\n",
       "      <th>PTS.OPP</th>\n",
       "      <th>SPREAD</th>\n",
       "    </tr>\n",
       "  </thead>\n",
       "  <tbody>\n",
       "    <tr>\n",
       "      <th>0</th>\n",
       "      <td>2016-10-25</td>\n",
       "      <td>CLEVELAND CAVALIERS</td>\n",
       "      <td>NEW YORK KNICKS</td>\n",
       "      <td>45</td>\n",
       "      <td>94</td>\n",
       "      <td>13</td>\n",
       "      <td>35</td>\n",
       "      <td>14</td>\n",
       "      <td>19</td>\n",
       "      <td>11</td>\n",
       "      <td>...</td>\n",
       "      <td>13</td>\n",
       "      <td>29</td>\n",
       "      <td>42</td>\n",
       "      <td>17</td>\n",
       "      <td>18</td>\n",
       "      <td>6</td>\n",
       "      <td>6</td>\n",
       "      <td>22</td>\n",
       "      <td>88</td>\n",
       "      <td>29</td>\n",
       "    </tr>\n",
       "    <tr>\n",
       "      <th>1</th>\n",
       "      <td>2016-10-25</td>\n",
       "      <td>GOLDEN STATE WARRIORS</td>\n",
       "      <td>SAN ANTONIO SPURS</td>\n",
       "      <td>40</td>\n",
       "      <td>85</td>\n",
       "      <td>7</td>\n",
       "      <td>33</td>\n",
       "      <td>13</td>\n",
       "      <td>18</td>\n",
       "      <td>8</td>\n",
       "      <td>...</td>\n",
       "      <td>21</td>\n",
       "      <td>34</td>\n",
       "      <td>55</td>\n",
       "      <td>25</td>\n",
       "      <td>13</td>\n",
       "      <td>13</td>\n",
       "      <td>3</td>\n",
       "      <td>19</td>\n",
       "      <td>129</td>\n",
       "      <td>-29</td>\n",
       "    </tr>\n",
       "    <tr>\n",
       "      <th>2</th>\n",
       "      <td>2016-10-25</td>\n",
       "      <td>NEW YORK KNICKS</td>\n",
       "      <td>CLEVELAND CAVALIERS</td>\n",
       "      <td>32</td>\n",
       "      <td>87</td>\n",
       "      <td>9</td>\n",
       "      <td>27</td>\n",
       "      <td>15</td>\n",
       "      <td>20</td>\n",
       "      <td>13</td>\n",
       "      <td>...</td>\n",
       "      <td>11</td>\n",
       "      <td>40</td>\n",
       "      <td>51</td>\n",
       "      <td>31</td>\n",
       "      <td>14</td>\n",
       "      <td>12</td>\n",
       "      <td>5</td>\n",
       "      <td>22</td>\n",
       "      <td>117</td>\n",
       "      <td>-29</td>\n",
       "    </tr>\n",
       "    <tr>\n",
       "      <th>3</th>\n",
       "      <td>2016-10-25</td>\n",
       "      <td>PORTLAND TRAIL BLAZERS</td>\n",
       "      <td>UTAH JAZZ</td>\n",
       "      <td>39</td>\n",
       "      <td>75</td>\n",
       "      <td>13</td>\n",
       "      <td>19</td>\n",
       "      <td>22</td>\n",
       "      <td>22</td>\n",
       "      <td>5</td>\n",
       "      <td>...</td>\n",
       "      <td>6</td>\n",
       "      <td>25</td>\n",
       "      <td>31</td>\n",
       "      <td>19</td>\n",
       "      <td>11</td>\n",
       "      <td>9</td>\n",
       "      <td>5</td>\n",
       "      <td>19</td>\n",
       "      <td>104</td>\n",
       "      <td>9</td>\n",
       "    </tr>\n",
       "    <tr>\n",
       "      <th>4</th>\n",
       "      <td>2016-10-25</td>\n",
       "      <td>SAN ANTONIO SPURS</td>\n",
       "      <td>GOLDEN STATE WARRIORS</td>\n",
       "      <td>47</td>\n",
       "      <td>98</td>\n",
       "      <td>12</td>\n",
       "      <td>24</td>\n",
       "      <td>23</td>\n",
       "      <td>26</td>\n",
       "      <td>21</td>\n",
       "      <td>...</td>\n",
       "      <td>8</td>\n",
       "      <td>27</td>\n",
       "      <td>35</td>\n",
       "      <td>24</td>\n",
       "      <td>16</td>\n",
       "      <td>11</td>\n",
       "      <td>6</td>\n",
       "      <td>19</td>\n",
       "      <td>100</td>\n",
       "      <td>29</td>\n",
       "    </tr>\n",
       "  </tbody>\n",
       "</table>\n",
       "<p>5 rows × 35 columns</p>\n",
       "</div>"
      ],
      "text/plain": [
       "         DATE                    TEAM                OPPTEAM  FGM.TEAM  \\\n",
       "0  2016-10-25     CLEVELAND CAVALIERS        NEW YORK KNICKS        45   \n",
       "1  2016-10-25   GOLDEN STATE WARRIORS      SAN ANTONIO SPURS        40   \n",
       "2  2016-10-25         NEW YORK KNICKS    CLEVELAND CAVALIERS        32   \n",
       "3  2016-10-25  PORTLAND TRAIL BLAZERS              UTAH JAZZ        39   \n",
       "4  2016-10-25       SAN ANTONIO SPURS  GOLDEN STATE WARRIORS        47   \n",
       "\n",
       "   FGA.TEAM  X3PM.TEAM  X3PA.TEAM  FTA.TEAM  FTM.TEAM  OREB.TEAM   ...    \\\n",
       "0        94         13         35        14        19         11   ...     \n",
       "1        85          7         33        13        18          8   ...     \n",
       "2        87          9         27        15        20         13   ...     \n",
       "3        75         13         19        22        22          5   ...     \n",
       "4        98         12         24        23        26         21   ...     \n",
       "\n",
       "   OREB.OPP  DREB.OPP  REB.OPP  AST.OPP  TOV.OPP  STL.OPP  BLK.OPP  PF.OPP  \\\n",
       "0        13        29       42       17       18        6        6      22   \n",
       "1        21        34       55       25       13       13        3      19   \n",
       "2        11        40       51       31       14       12        5      22   \n",
       "3         6        25       31       19       11        9        5      19   \n",
       "4         8        27       35       24       16       11        6      19   \n",
       "\n",
       "   PTS.OPP  SPREAD  \n",
       "0       88      29  \n",
       "1      129     -29  \n",
       "2      117     -29  \n",
       "3      104       9  \n",
       "4      100      29  \n",
       "\n",
       "[5 rows x 35 columns]"
      ]
     },
     "execution_count": 7,
     "metadata": {},
     "output_type": "execute_result"
    }
   ],
   "source": [
    "cleaned_basketball_data = basketball_data.drop(['Unnamed: 0', 'ID.TEAM', 'P.M.TEAM', 'FGM.AVG.TEAM', 'FGA.AVG.TEAM', 'X3PM.AVG.TEAM', 'X3PA.AVG.TEAM', 'FTA.AVG.TEAM', 'FTM.AVG.TEAM', 'OREB.AVG.TEAM', 'DREB.AVG.TEAM', 'REB.AVG.TEAM', 'AST.AVG.TEAM', 'TOV.AVG.TEAM', 'STL.AVG.TEAM', 'BLK.AVG.TEAM', 'PF.AVG.TEAM', 'PTS.AVG.TEAM', 'P.M.AVG.TEAM', 'P.M.OPP', 'HOME.OPP', 'FGM.AVG.OPP', 'FGA.AVG.OPP', 'X3PM.AVG.OPP', 'X3PA.AVG.OPP', 'FTA.AVG.OPP', 'FTM.AVG.OPP', 'OREB.AVG.OPP', 'DREB.AVG.OPP', 'REB.AVG.OPP', 'AST.AVG.OPP', 'TOV.AVG.OPP', 'STL.AVG.OPP', 'BLK.AVG.OPP', 'PF.AVG.OPP', 'PTS.AVG.OPP', 'P.M.AVG.OPP', 'TEAM.1', 'FGM.AVG.5.TEAM', 'FGA.AVG.5.TEAM', 'X3PM.AVG.5.TEAM', 'X3PA.AVG.5.TEAM', 'FTA.AVG.5.TEAM', 'FTM.AVG.5.TEAM', 'OREB.AVG.5.TEAM', 'DREB.AVG.5.TEAM', 'REB.AVG.5.TEAM', 'AST.AVG.5.TEAM', 'TOV.AVG.5.TEAM', 'STL.AVG.5.TEAM', 'BLK.AVG.5.TEAM', 'PF.AVG.5.TEAM', 'PTS.AVG.5.TEAM', 'P.M.AVG.5.TEAM', 'FGM.AVG.5.OPP', 'FGA.AVG.5.OPP', 'X3PM.AVG.5.OPP', 'X3PA.AVG.5.OPP', 'FTA.AVG.5.OPP', 'FTM.AVG.5.OPP','OREB.AVG.5.OPP', 'DREB.AVG.5.OPP', 'REB.AVG.5.OPP', 'AST.AVG.5.OPP', 'TOV.AVG.5.OPP', 'STL.AVG.5.OPP', 'BLK.AVG.5.OPP', 'PF.AVG.5.OPP', 'PTS.AVG.5.OPP', 'P.M.AVG.5.OPP', 'EFF.FG.TEAM', 'NRtg.TEAM.AVG'], 1)\n",
    "cleaned_basketball_data.head()"
   ]
  },
  {
   "cell_type": "code",
   "execution_count": 8,
   "metadata": {},
   "outputs": [
    {
     "data": {
      "text/plain": [
       "Index(['DATE', 'TEAM', 'OPPTEAM', 'FGM.TEAM', 'FGA.TEAM', 'X3PM.TEAM',\n",
       "       'X3PA.TEAM', 'FTA.TEAM', 'FTM.TEAM', 'OREB.TEAM', 'DREB.TEAM',\n",
       "       'REB.TEAM', 'AST.TEAM', 'TOV.TEAM', 'STL.TEAM', 'BLK.TEAM', 'PF.TEAM',\n",
       "       'PTS.TEAM', 'HOME.TEAM', 'FGM.OPP', 'FGA.OPP', 'X3PM.OPP', 'X3PA.OPP',\n",
       "       'FTA.OPP', 'FTM.OPP', 'OREB.OPP', 'DREB.OPP', 'REB.OPP', 'AST.OPP',\n",
       "       'TOV.OPP', 'STL.OPP', 'BLK.OPP', 'PF.OPP', 'PTS.OPP', 'SPREAD'],\n",
       "      dtype='object')"
      ]
     },
     "execution_count": 8,
     "metadata": {},
     "output_type": "execute_result"
    }
   ],
   "source": [
    "cleaned_basketball_data.columns"
   ]
  },
  {
   "cell_type": "code",
   "execution_count": 9,
   "metadata": {
    "collapsed": true
   },
   "outputs": [],
   "source": [
    "cleaned_basketball_data['FG%.TEAM'] = cleaned_basketball_data['FGM.TEAM'] / cleaned_basketball_data['FGA.TEAM']\n",
    "cleaned_basketball_data['X3FG%.TEAM'] = cleaned_basketball_data['X3PM.TEAM'] / cleaned_basketball_data['X3PA.TEAM']"
   ]
  },
  {
   "cell_type": "code",
   "execution_count": 10,
   "metadata": {},
   "outputs": [
    {
     "data": {
      "text/html": [
       "<div>\n",
       "<style>\n",
       "    .dataframe thead tr:only-child th {\n",
       "        text-align: right;\n",
       "    }\n",
       "\n",
       "    .dataframe thead th {\n",
       "        text-align: left;\n",
       "    }\n",
       "\n",
       "    .dataframe tbody tr th {\n",
       "        vertical-align: top;\n",
       "    }\n",
       "</style>\n",
       "<table border=\"1\" class=\"dataframe\">\n",
       "  <thead>\n",
       "    <tr style=\"text-align: right;\">\n",
       "      <th></th>\n",
       "      <th>DATE</th>\n",
       "      <th>TEAM</th>\n",
       "      <th>OPPTEAM</th>\n",
       "      <th>FGM.TEAM</th>\n",
       "      <th>FGA.TEAM</th>\n",
       "      <th>X3PM.TEAM</th>\n",
       "      <th>X3PA.TEAM</th>\n",
       "      <th>FTA.TEAM</th>\n",
       "      <th>FTM.TEAM</th>\n",
       "      <th>OREB.TEAM</th>\n",
       "      <th>...</th>\n",
       "      <th>REB.OPP</th>\n",
       "      <th>AST.OPP</th>\n",
       "      <th>TOV.OPP</th>\n",
       "      <th>STL.OPP</th>\n",
       "      <th>BLK.OPP</th>\n",
       "      <th>PF.OPP</th>\n",
       "      <th>PTS.OPP</th>\n",
       "      <th>SPREAD</th>\n",
       "      <th>FG%.TEAM</th>\n",
       "      <th>X3FG%.TEAM</th>\n",
       "    </tr>\n",
       "  </thead>\n",
       "  <tbody>\n",
       "    <tr>\n",
       "      <th>0</th>\n",
       "      <td>2016-10-25</td>\n",
       "      <td>CLEVELAND CAVALIERS</td>\n",
       "      <td>NEW YORK KNICKS</td>\n",
       "      <td>45</td>\n",
       "      <td>94</td>\n",
       "      <td>13</td>\n",
       "      <td>35</td>\n",
       "      <td>14</td>\n",
       "      <td>19</td>\n",
       "      <td>11</td>\n",
       "      <td>...</td>\n",
       "      <td>42</td>\n",
       "      <td>17</td>\n",
       "      <td>18</td>\n",
       "      <td>6</td>\n",
       "      <td>6</td>\n",
       "      <td>22</td>\n",
       "      <td>88</td>\n",
       "      <td>29</td>\n",
       "      <td>0.478723</td>\n",
       "      <td>0.371429</td>\n",
       "    </tr>\n",
       "    <tr>\n",
       "      <th>1</th>\n",
       "      <td>2016-10-25</td>\n",
       "      <td>GOLDEN STATE WARRIORS</td>\n",
       "      <td>SAN ANTONIO SPURS</td>\n",
       "      <td>40</td>\n",
       "      <td>85</td>\n",
       "      <td>7</td>\n",
       "      <td>33</td>\n",
       "      <td>13</td>\n",
       "      <td>18</td>\n",
       "      <td>8</td>\n",
       "      <td>...</td>\n",
       "      <td>55</td>\n",
       "      <td>25</td>\n",
       "      <td>13</td>\n",
       "      <td>13</td>\n",
       "      <td>3</td>\n",
       "      <td>19</td>\n",
       "      <td>129</td>\n",
       "      <td>-29</td>\n",
       "      <td>0.470588</td>\n",
       "      <td>0.212121</td>\n",
       "    </tr>\n",
       "    <tr>\n",
       "      <th>2</th>\n",
       "      <td>2016-10-25</td>\n",
       "      <td>NEW YORK KNICKS</td>\n",
       "      <td>CLEVELAND CAVALIERS</td>\n",
       "      <td>32</td>\n",
       "      <td>87</td>\n",
       "      <td>9</td>\n",
       "      <td>27</td>\n",
       "      <td>15</td>\n",
       "      <td>20</td>\n",
       "      <td>13</td>\n",
       "      <td>...</td>\n",
       "      <td>51</td>\n",
       "      <td>31</td>\n",
       "      <td>14</td>\n",
       "      <td>12</td>\n",
       "      <td>5</td>\n",
       "      <td>22</td>\n",
       "      <td>117</td>\n",
       "      <td>-29</td>\n",
       "      <td>0.367816</td>\n",
       "      <td>0.333333</td>\n",
       "    </tr>\n",
       "    <tr>\n",
       "      <th>3</th>\n",
       "      <td>2016-10-25</td>\n",
       "      <td>PORTLAND TRAIL BLAZERS</td>\n",
       "      <td>UTAH JAZZ</td>\n",
       "      <td>39</td>\n",
       "      <td>75</td>\n",
       "      <td>13</td>\n",
       "      <td>19</td>\n",
       "      <td>22</td>\n",
       "      <td>22</td>\n",
       "      <td>5</td>\n",
       "      <td>...</td>\n",
       "      <td>31</td>\n",
       "      <td>19</td>\n",
       "      <td>11</td>\n",
       "      <td>9</td>\n",
       "      <td>5</td>\n",
       "      <td>19</td>\n",
       "      <td>104</td>\n",
       "      <td>9</td>\n",
       "      <td>0.520000</td>\n",
       "      <td>0.684211</td>\n",
       "    </tr>\n",
       "    <tr>\n",
       "      <th>4</th>\n",
       "      <td>2016-10-25</td>\n",
       "      <td>SAN ANTONIO SPURS</td>\n",
       "      <td>GOLDEN STATE WARRIORS</td>\n",
       "      <td>47</td>\n",
       "      <td>98</td>\n",
       "      <td>12</td>\n",
       "      <td>24</td>\n",
       "      <td>23</td>\n",
       "      <td>26</td>\n",
       "      <td>21</td>\n",
       "      <td>...</td>\n",
       "      <td>35</td>\n",
       "      <td>24</td>\n",
       "      <td>16</td>\n",
       "      <td>11</td>\n",
       "      <td>6</td>\n",
       "      <td>19</td>\n",
       "      <td>100</td>\n",
       "      <td>29</td>\n",
       "      <td>0.479592</td>\n",
       "      <td>0.500000</td>\n",
       "    </tr>\n",
       "  </tbody>\n",
       "</table>\n",
       "<p>5 rows × 37 columns</p>\n",
       "</div>"
      ],
      "text/plain": [
       "         DATE                    TEAM                OPPTEAM  FGM.TEAM  \\\n",
       "0  2016-10-25     CLEVELAND CAVALIERS        NEW YORK KNICKS        45   \n",
       "1  2016-10-25   GOLDEN STATE WARRIORS      SAN ANTONIO SPURS        40   \n",
       "2  2016-10-25         NEW YORK KNICKS    CLEVELAND CAVALIERS        32   \n",
       "3  2016-10-25  PORTLAND TRAIL BLAZERS              UTAH JAZZ        39   \n",
       "4  2016-10-25       SAN ANTONIO SPURS  GOLDEN STATE WARRIORS        47   \n",
       "\n",
       "   FGA.TEAM  X3PM.TEAM  X3PA.TEAM  FTA.TEAM  FTM.TEAM  OREB.TEAM     ...      \\\n",
       "0        94         13         35        14        19         11     ...       \n",
       "1        85          7         33        13        18          8     ...       \n",
       "2        87          9         27        15        20         13     ...       \n",
       "3        75         13         19        22        22          5     ...       \n",
       "4        98         12         24        23        26         21     ...       \n",
       "\n",
       "   REB.OPP  AST.OPP  TOV.OPP  STL.OPP  BLK.OPP  PF.OPP  PTS.OPP  SPREAD  \\\n",
       "0       42       17       18        6        6      22       88      29   \n",
       "1       55       25       13       13        3      19      129     -29   \n",
       "2       51       31       14       12        5      22      117     -29   \n",
       "3       31       19       11        9        5      19      104       9   \n",
       "4       35       24       16       11        6      19      100      29   \n",
       "\n",
       "   FG%.TEAM  X3FG%.TEAM  \n",
       "0  0.478723    0.371429  \n",
       "1  0.470588    0.212121  \n",
       "2  0.367816    0.333333  \n",
       "3  0.520000    0.684211  \n",
       "4  0.479592    0.500000  \n",
       "\n",
       "[5 rows x 37 columns]"
      ]
     },
     "execution_count": 10,
     "metadata": {},
     "output_type": "execute_result"
    }
   ],
   "source": [
    "cleaned_basketball_data.head()"
   ]
  },
  {
   "cell_type": "code",
   "execution_count": 11,
   "metadata": {
    "collapsed": true
   },
   "outputs": [],
   "source": [
    "cleaned_home_games = cleaned_basketball_data[cleaned_basketball_data[\"HOME.TEAM\"] == True]\n",
    "cleaned_home_games = cleaned_home_games.rename(columns = {\"SPREAD\": \"HOME SPREAD\"})"
   ]
  },
  {
   "cell_type": "code",
   "execution_count": 12,
   "metadata": {},
   "outputs": [
    {
     "data": {
      "text/html": [
       "<div>\n",
       "<style>\n",
       "    .dataframe thead tr:only-child th {\n",
       "        text-align: right;\n",
       "    }\n",
       "\n",
       "    .dataframe thead th {\n",
       "        text-align: left;\n",
       "    }\n",
       "\n",
       "    .dataframe tbody tr th {\n",
       "        vertical-align: top;\n",
       "    }\n",
       "</style>\n",
       "<table border=\"1\" class=\"dataframe\">\n",
       "  <thead>\n",
       "    <tr style=\"text-align: right;\">\n",
       "      <th></th>\n",
       "      <th>DATE</th>\n",
       "      <th>TEAM</th>\n",
       "      <th>OPPTEAM</th>\n",
       "      <th>FGM.TEAM</th>\n",
       "      <th>FGA.TEAM</th>\n",
       "      <th>X3PM.TEAM</th>\n",
       "      <th>X3PA.TEAM</th>\n",
       "      <th>FTA.TEAM</th>\n",
       "      <th>FTM.TEAM</th>\n",
       "      <th>OREB.TEAM</th>\n",
       "      <th>...</th>\n",
       "      <th>REB.OPP</th>\n",
       "      <th>AST.OPP</th>\n",
       "      <th>TOV.OPP</th>\n",
       "      <th>STL.OPP</th>\n",
       "      <th>BLK.OPP</th>\n",
       "      <th>PF.OPP</th>\n",
       "      <th>PTS.OPP</th>\n",
       "      <th>HOME SPREAD</th>\n",
       "      <th>FG%.TEAM</th>\n",
       "      <th>X3FG%.TEAM</th>\n",
       "    </tr>\n",
       "  </thead>\n",
       "  <tbody>\n",
       "    <tr>\n",
       "      <th>0</th>\n",
       "      <td>2016-10-25</td>\n",
       "      <td>CLEVELAND CAVALIERS</td>\n",
       "      <td>NEW YORK KNICKS</td>\n",
       "      <td>45</td>\n",
       "      <td>94</td>\n",
       "      <td>13</td>\n",
       "      <td>35</td>\n",
       "      <td>14</td>\n",
       "      <td>19</td>\n",
       "      <td>11</td>\n",
       "      <td>...</td>\n",
       "      <td>42</td>\n",
       "      <td>17</td>\n",
       "      <td>18</td>\n",
       "      <td>6</td>\n",
       "      <td>6</td>\n",
       "      <td>22</td>\n",
       "      <td>88</td>\n",
       "      <td>29</td>\n",
       "      <td>0.478723</td>\n",
       "      <td>0.371429</td>\n",
       "    </tr>\n",
       "    <tr>\n",
       "      <th>1</th>\n",
       "      <td>2016-10-25</td>\n",
       "      <td>GOLDEN STATE WARRIORS</td>\n",
       "      <td>SAN ANTONIO SPURS</td>\n",
       "      <td>40</td>\n",
       "      <td>85</td>\n",
       "      <td>7</td>\n",
       "      <td>33</td>\n",
       "      <td>13</td>\n",
       "      <td>18</td>\n",
       "      <td>8</td>\n",
       "      <td>...</td>\n",
       "      <td>55</td>\n",
       "      <td>25</td>\n",
       "      <td>13</td>\n",
       "      <td>13</td>\n",
       "      <td>3</td>\n",
       "      <td>19</td>\n",
       "      <td>129</td>\n",
       "      <td>-29</td>\n",
       "      <td>0.470588</td>\n",
       "      <td>0.212121</td>\n",
       "    </tr>\n",
       "    <tr>\n",
       "      <th>3</th>\n",
       "      <td>2016-10-25</td>\n",
       "      <td>PORTLAND TRAIL BLAZERS</td>\n",
       "      <td>UTAH JAZZ</td>\n",
       "      <td>39</td>\n",
       "      <td>75</td>\n",
       "      <td>13</td>\n",
       "      <td>19</td>\n",
       "      <td>22</td>\n",
       "      <td>22</td>\n",
       "      <td>5</td>\n",
       "      <td>...</td>\n",
       "      <td>31</td>\n",
       "      <td>19</td>\n",
       "      <td>11</td>\n",
       "      <td>9</td>\n",
       "      <td>5</td>\n",
       "      <td>19</td>\n",
       "      <td>104</td>\n",
       "      <td>9</td>\n",
       "      <td>0.520000</td>\n",
       "      <td>0.684211</td>\n",
       "    </tr>\n",
       "    <tr>\n",
       "      <th>6</th>\n",
       "      <td>2016-10-26</td>\n",
       "      <td>BOSTON CELTICS</td>\n",
       "      <td>BROOKLYN NETS</td>\n",
       "      <td>48</td>\n",
       "      <td>89</td>\n",
       "      <td>11</td>\n",
       "      <td>32</td>\n",
       "      <td>15</td>\n",
       "      <td>18</td>\n",
       "      <td>12</td>\n",
       "      <td>...</td>\n",
       "      <td>44</td>\n",
       "      <td>22</td>\n",
       "      <td>16</td>\n",
       "      <td>8</td>\n",
       "      <td>3</td>\n",
       "      <td>19</td>\n",
       "      <td>117</td>\n",
       "      <td>5</td>\n",
       "      <td>0.539326</td>\n",
       "      <td>0.343750</td>\n",
       "    </tr>\n",
       "    <tr>\n",
       "      <th>13</th>\n",
       "      <td>2016-10-26</td>\n",
       "      <td>INDIANA PACERS</td>\n",
       "      <td>DALLAS MAVERICKS</td>\n",
       "      <td>47</td>\n",
       "      <td>93</td>\n",
       "      <td>10</td>\n",
       "      <td>19</td>\n",
       "      <td>26</td>\n",
       "      <td>34</td>\n",
       "      <td>8</td>\n",
       "      <td>...</td>\n",
       "      <td>49</td>\n",
       "      <td>26</td>\n",
       "      <td>15</td>\n",
       "      <td>8</td>\n",
       "      <td>8</td>\n",
       "      <td>27</td>\n",
       "      <td>121</td>\n",
       "      <td>9</td>\n",
       "      <td>0.505376</td>\n",
       "      <td>0.526316</td>\n",
       "    </tr>\n",
       "  </tbody>\n",
       "</table>\n",
       "<p>5 rows × 37 columns</p>\n",
       "</div>"
      ],
      "text/plain": [
       "          DATE                    TEAM            OPPTEAM  FGM.TEAM  FGA.TEAM  \\\n",
       "0   2016-10-25     CLEVELAND CAVALIERS    NEW YORK KNICKS        45        94   \n",
       "1   2016-10-25   GOLDEN STATE WARRIORS  SAN ANTONIO SPURS        40        85   \n",
       "3   2016-10-25  PORTLAND TRAIL BLAZERS          UTAH JAZZ        39        75   \n",
       "6   2016-10-26          BOSTON CELTICS      BROOKLYN NETS        48        89   \n",
       "13  2016-10-26          INDIANA PACERS   DALLAS MAVERICKS        47        93   \n",
       "\n",
       "    X3PM.TEAM  X3PA.TEAM  FTA.TEAM  FTM.TEAM  OREB.TEAM     ...      REB.OPP  \\\n",
       "0          13         35        14        19         11     ...           42   \n",
       "1           7         33        13        18          8     ...           55   \n",
       "3          13         19        22        22          5     ...           31   \n",
       "6          11         32        15        18         12     ...           44   \n",
       "13         10         19        26        34          8     ...           49   \n",
       "\n",
       "    AST.OPP  TOV.OPP  STL.OPP  BLK.OPP  PF.OPP  PTS.OPP  HOME SPREAD  \\\n",
       "0        17       18        6        6      22       88           29   \n",
       "1        25       13       13        3      19      129          -29   \n",
       "3        19       11        9        5      19      104            9   \n",
       "6        22       16        8        3      19      117            5   \n",
       "13       26       15        8        8      27      121            9   \n",
       "\n",
       "    FG%.TEAM  X3FG%.TEAM  \n",
       "0   0.478723    0.371429  \n",
       "1   0.470588    0.212121  \n",
       "3   0.520000    0.684211  \n",
       "6   0.539326    0.343750  \n",
       "13  0.505376    0.526316  \n",
       "\n",
       "[5 rows x 37 columns]"
      ]
     },
     "execution_count": 12,
     "metadata": {},
     "output_type": "execute_result"
    }
   ],
   "source": [
    "cleaned_home_games.head()"
   ]
  },
  {
   "cell_type": "code",
   "execution_count": 13,
   "metadata": {},
   "outputs": [
    {
     "data": {
      "text/html": [
       "<div>\n",
       "<style>\n",
       "    .dataframe thead tr:only-child th {\n",
       "        text-align: right;\n",
       "    }\n",
       "\n",
       "    .dataframe thead th {\n",
       "        text-align: left;\n",
       "    }\n",
       "\n",
       "    .dataframe tbody tr th {\n",
       "        vertical-align: top;\n",
       "    }\n",
       "</style>\n",
       "<table border=\"1\" class=\"dataframe\">\n",
       "  <thead>\n",
       "    <tr style=\"text-align: right;\">\n",
       "      <th></th>\n",
       "      <th>TEAM</th>\n",
       "      <th>HOME SPREAD</th>\n",
       "    </tr>\n",
       "  </thead>\n",
       "  <tbody>\n",
       "    <tr>\n",
       "      <th>0</th>\n",
       "      <td>ATLANTA HAWKS</td>\n",
       "      <td>0.097561</td>\n",
       "    </tr>\n",
       "    <tr>\n",
       "      <th>1</th>\n",
       "      <td>BOSTON CELTICS</td>\n",
       "      <td>4.073171</td>\n",
       "    </tr>\n",
       "    <tr>\n",
       "      <th>2</th>\n",
       "      <td>BROOKLYN NETS</td>\n",
       "      <td>-5.536585</td>\n",
       "    </tr>\n",
       "    <tr>\n",
       "      <th>3</th>\n",
       "      <td>CHARLOTTE HORNETS</td>\n",
       "      <td>3.219512</td>\n",
       "    </tr>\n",
       "    <tr>\n",
       "      <th>4</th>\n",
       "      <td>CHICAGO BULLS</td>\n",
       "      <td>3.048780</td>\n",
       "    </tr>\n",
       "  </tbody>\n",
       "</table>\n",
       "</div>"
      ],
      "text/plain": [
       "                TEAM  HOME SPREAD\n",
       "0      ATLANTA HAWKS     0.097561\n",
       "1     BOSTON CELTICS     4.073171\n",
       "2      BROOKLYN NETS    -5.536585\n",
       "3  CHARLOTTE HORNETS     3.219512\n",
       "4      CHICAGO BULLS     3.048780"
      ]
     },
     "execution_count": 13,
     "metadata": {},
     "output_type": "execute_result"
    }
   ],
   "source": [
    "cleaned_home_games_by_team = cleaned_home_games.groupby(\"TEAM\", as_index = False)\n",
    "cleaned_home_games_by_team = cleaned_home_games_by_team[\"HOME SPREAD\"].mean()\n",
    "cleaned_home_games_by_team.head()"
   ]
  },
  {
   "cell_type": "code",
   "execution_count": 14,
   "metadata": {
    "collapsed": true
   },
   "outputs": [],
   "source": [
    "cleaned_away_games = cleaned_basketball_data[cleaned_basketball_data[\"HOME.TEAM\"] == False]\n",
    "cleaned_away_games = cleaned_away_games.rename(columns = {\"SPREAD\": \"AWAY SPREAD\"})"
   ]
  },
  {
   "cell_type": "code",
   "execution_count": 15,
   "metadata": {},
   "outputs": [
    {
     "data": {
      "text/html": [
       "<div>\n",
       "<style>\n",
       "    .dataframe thead tr:only-child th {\n",
       "        text-align: right;\n",
       "    }\n",
       "\n",
       "    .dataframe thead th {\n",
       "        text-align: left;\n",
       "    }\n",
       "\n",
       "    .dataframe tbody tr th {\n",
       "        vertical-align: top;\n",
       "    }\n",
       "</style>\n",
       "<table border=\"1\" class=\"dataframe\">\n",
       "  <thead>\n",
       "    <tr style=\"text-align: right;\">\n",
       "      <th></th>\n",
       "      <th>TEAM</th>\n",
       "      <th>AWAY SPREAD</th>\n",
       "    </tr>\n",
       "  </thead>\n",
       "  <tbody>\n",
       "    <tr>\n",
       "      <th>0</th>\n",
       "      <td>ATLANTA HAWKS</td>\n",
       "      <td>-1.804878</td>\n",
       "    </tr>\n",
       "    <tr>\n",
       "      <th>1</th>\n",
       "      <td>BOSTON CELTICS</td>\n",
       "      <td>1.195122</td>\n",
       "    </tr>\n",
       "    <tr>\n",
       "      <th>2</th>\n",
       "      <td>BROOKLYN NETS</td>\n",
       "      <td>-7.926829</td>\n",
       "    </tr>\n",
       "    <tr>\n",
       "      <th>3</th>\n",
       "      <td>CHARLOTTE HORNETS</td>\n",
       "      <td>-2.829268</td>\n",
       "    </tr>\n",
       "    <tr>\n",
       "      <th>4</th>\n",
       "      <td>CHICAGO BULLS</td>\n",
       "      <td>-2.195122</td>\n",
       "    </tr>\n",
       "  </tbody>\n",
       "</table>\n",
       "</div>"
      ],
      "text/plain": [
       "                TEAM  AWAY SPREAD\n",
       "0      ATLANTA HAWKS    -1.804878\n",
       "1     BOSTON CELTICS     1.195122\n",
       "2      BROOKLYN NETS    -7.926829\n",
       "3  CHARLOTTE HORNETS    -2.829268\n",
       "4      CHICAGO BULLS    -2.195122"
      ]
     },
     "execution_count": 15,
     "metadata": {},
     "output_type": "execute_result"
    }
   ],
   "source": [
    "cleaned_away_games_by_team = cleaned_away_games.groupby(\"TEAM\", as_index = False)\n",
    "cleaned_away_games_by_team = cleaned_away_games_by_team[\"AWAY SPREAD\"].mean()\n",
    "cleaned_away_games_by_team.head()"
   ]
  },
  {
   "cell_type": "code",
   "execution_count": 16,
   "metadata": {},
   "outputs": [
    {
     "data": {
      "text/html": [
       "<div>\n",
       "<style>\n",
       "    .dataframe thead tr:only-child th {\n",
       "        text-align: right;\n",
       "    }\n",
       "\n",
       "    .dataframe thead th {\n",
       "        text-align: left;\n",
       "    }\n",
       "\n",
       "    .dataframe tbody tr th {\n",
       "        vertical-align: top;\n",
       "    }\n",
       "</style>\n",
       "<table border=\"1\" class=\"dataframe\">\n",
       "  <thead>\n",
       "    <tr style=\"text-align: right;\">\n",
       "      <th></th>\n",
       "      <th>TEAM</th>\n",
       "      <th>HOME SPREAD</th>\n",
       "      <th>AWAY SPREAD</th>\n",
       "    </tr>\n",
       "  </thead>\n",
       "  <tbody>\n",
       "    <tr>\n",
       "      <th>0</th>\n",
       "      <td>ATLANTA HAWKS</td>\n",
       "      <td>0.097561</td>\n",
       "      <td>-1.804878</td>\n",
       "    </tr>\n",
       "    <tr>\n",
       "      <th>1</th>\n",
       "      <td>BOSTON CELTICS</td>\n",
       "      <td>4.073171</td>\n",
       "      <td>1.195122</td>\n",
       "    </tr>\n",
       "    <tr>\n",
       "      <th>2</th>\n",
       "      <td>BROOKLYN NETS</td>\n",
       "      <td>-5.536585</td>\n",
       "      <td>-7.926829</td>\n",
       "    </tr>\n",
       "    <tr>\n",
       "      <th>3</th>\n",
       "      <td>CHARLOTTE HORNETS</td>\n",
       "      <td>3.219512</td>\n",
       "      <td>-2.829268</td>\n",
       "    </tr>\n",
       "    <tr>\n",
       "      <th>4</th>\n",
       "      <td>CHICAGO BULLS</td>\n",
       "      <td>3.048780</td>\n",
       "      <td>-2.195122</td>\n",
       "    </tr>\n",
       "  </tbody>\n",
       "</table>\n",
       "</div>"
      ],
      "text/plain": [
       "                TEAM  HOME SPREAD  AWAY SPREAD\n",
       "0      ATLANTA HAWKS     0.097561    -1.804878\n",
       "1     BOSTON CELTICS     4.073171     1.195122\n",
       "2      BROOKLYN NETS    -5.536585    -7.926829\n",
       "3  CHARLOTTE HORNETS     3.219512    -2.829268\n",
       "4      CHICAGO BULLS     3.048780    -2.195122"
      ]
     },
     "execution_count": 16,
     "metadata": {},
     "output_type": "execute_result"
    }
   ],
   "source": [
    "spread_by_team = pd.merge(cleaned_home_games_by_team, cleaned_away_games_by_team, on = \"TEAM\")\n",
    "spread_by_team.head()"
   ]
  },
  {
   "cell_type": "code",
   "execution_count": 17,
   "metadata": {},
   "outputs": [
    {
     "data": {
      "text/html": [
       "<div>\n",
       "<style>\n",
       "    .dataframe thead tr:only-child th {\n",
       "        text-align: right;\n",
       "    }\n",
       "\n",
       "    .dataframe thead th {\n",
       "        text-align: left;\n",
       "    }\n",
       "\n",
       "    .dataframe tbody tr th {\n",
       "        vertical-align: top;\n",
       "    }\n",
       "</style>\n",
       "<table border=\"1\" class=\"dataframe\">\n",
       "  <thead>\n",
       "    <tr style=\"text-align: right;\">\n",
       "      <th></th>\n",
       "      <th>TEAM</th>\n",
       "      <th>HOME SPREAD</th>\n",
       "      <th>AWAY SPREAD</th>\n",
       "      <th>DIFF IN SPREAD</th>\n",
       "    </tr>\n",
       "  </thead>\n",
       "  <tbody>\n",
       "    <tr>\n",
       "      <th>0</th>\n",
       "      <td>ATLANTA HAWKS</td>\n",
       "      <td>0.097561</td>\n",
       "      <td>-1.804878</td>\n",
       "      <td>1.902439</td>\n",
       "    </tr>\n",
       "    <tr>\n",
       "      <th>1</th>\n",
       "      <td>BOSTON CELTICS</td>\n",
       "      <td>4.073171</td>\n",
       "      <td>1.195122</td>\n",
       "      <td>2.878049</td>\n",
       "    </tr>\n",
       "    <tr>\n",
       "      <th>2</th>\n",
       "      <td>BROOKLYN NETS</td>\n",
       "      <td>-5.536585</td>\n",
       "      <td>-7.926829</td>\n",
       "      <td>2.390244</td>\n",
       "    </tr>\n",
       "    <tr>\n",
       "      <th>3</th>\n",
       "      <td>CHARLOTTE HORNETS</td>\n",
       "      <td>3.219512</td>\n",
       "      <td>-2.829268</td>\n",
       "      <td>6.048780</td>\n",
       "    </tr>\n",
       "    <tr>\n",
       "      <th>4</th>\n",
       "      <td>CHICAGO BULLS</td>\n",
       "      <td>3.048780</td>\n",
       "      <td>-2.195122</td>\n",
       "      <td>5.243902</td>\n",
       "    </tr>\n",
       "  </tbody>\n",
       "</table>\n",
       "</div>"
      ],
      "text/plain": [
       "                TEAM  HOME SPREAD  AWAY SPREAD  DIFF IN SPREAD\n",
       "0      ATLANTA HAWKS     0.097561    -1.804878        1.902439\n",
       "1     BOSTON CELTICS     4.073171     1.195122        2.878049\n",
       "2      BROOKLYN NETS    -5.536585    -7.926829        2.390244\n",
       "3  CHARLOTTE HORNETS     3.219512    -2.829268        6.048780\n",
       "4      CHICAGO BULLS     3.048780    -2.195122        5.243902"
      ]
     },
     "execution_count": 17,
     "metadata": {},
     "output_type": "execute_result"
    }
   ],
   "source": [
    "spread_by_team['DIFF IN SPREAD'] = spread_by_team['HOME SPREAD'] - spread_by_team['AWAY SPREAD']\n",
    "spread_by_team.head()"
   ]
  },
  {
   "cell_type": "markdown",
   "metadata": {},
   "source": [
    "All three visualizations below show that there could be potential home court advantage because the average home spread appears greater than the average away spread and that there could be some potential discrepency between the underlying distributions for the home spread and away spread for basketball games."
   ]
  },
  {
   "cell_type": "code",
   "execution_count": 18,
   "metadata": {},
   "outputs": [
    {
     "data": {
      "text/plain": [
       "<Container object of 30 artists>"
      ]
     },
     "execution_count": 18,
     "metadata": {},
     "output_type": "execute_result"
    },
    {
     "data": {
      "image/png": "[encoded data removed]",
      "text/plain": [
       "<matplotlib.figure.Figure at 0x119151da0>"
      ]
     },
     "metadata": {},
     "output_type": "display_data"
    }
   ],
   "source": [
    "diff_in_spread = plt.figure(figsize = (18,10))\n",
    "\n",
    "dis1 = diff_in_spread.add_subplot(2,2,1)\n",
    "\n",
    "dis1.set_title('Difference Between Home and Away Spread')\n",
    "dis1.set_xlabel('Difference Between Home and Away Spread')\n",
    "dis1.set_ylabel('Frequency')\n",
    "dis1.set_ylim(0,5)\n",
    "dis1.set_xticks(np.arange(0,14,1))\n",
    "\n",
    "n, bins, patches = dis1.hist(spread_by_team['DIFF IN SPREAD'], bins = np.arange(0,14,.5))\n",
    "\n",
    "dis2 = diff_in_spread.add_subplot(2,2,2)\n",
    "dis2.set_title('Home versus Away Spread')\n",
    "dis2.set_xlabel('Spread')\n",
    "dis2.set_ylabel('Frequency')\n",
    "dis2.set_ylim(0,8)\n",
    "dis2.set_xticks(np.arange(-14,20,2))\n",
    "n, bins, patches = dis2.hist([spread_by_team['HOME SPREAD'], spread_by_team['AWAY SPREAD']], bins = np.arange(-14,20,1), label = ['Home Spread', 'Away Spread'])\n",
    "dis2.legend(loc = (0.8,0.8))\n",
    "\n",
    "dis3 = diff_in_spread.add_subplot(2,2,3)\n",
    "\n",
    "dis3.set_title('Home Spread versus Away Spread by Team')\n",
    "dis3.set_xlabel('Team')\n",
    "dis3.set_ylabel('Spread')\n",
    "dis3.set_yticks(np.arange(-16,20,2))\n",
    "dis3.set_xticks(np.arange(len(spread_by_team)))\n",
    "dis3.set_xticklabels(spread_by_team['TEAM'], rotation = 'vertical')\n",
    "\n",
    "dis3.bar(left = np.arange(len(spread_by_team)), height = spread_by_team['HOME SPREAD'] , width = 0.4, data = spread_by_team)\n",
    "dis3.bar(left = np.arange(len(spread_by_team))+0.3, height = spread_by_team['AWAY SPREAD'] , width = 0.4, data = spread_by_team)"
   ]
  },
  {
   "cell_type": "code",
   "execution_count": 19,
   "metadata": {
    "collapsed": true
   },
   "outputs": [],
   "source": [
    "HvA_spread_bins = np.arange(np.min(cleaned_basketball_data['SPREAD']) - 1,np.max(cleaned_basketball_data['SPREAD']) + 2,5)"
   ]
  },
  {
   "cell_type": "code",
   "execution_count": 20,
   "metadata": {},
   "outputs": [
    {
     "data": {
      "text/plain": [
       "<matplotlib.legend.Legend at 0x11d7ea080>"
      ]
     },
     "execution_count": 20,
     "metadata": {},
     "output_type": "execute_result"
    },
    {
     "data": {
      "image/png": "[encoded data removed]",
      "text/plain": [
       "<matplotlib.figure.Figure at 0x119151c88>"
      ]
     },
     "metadata": {},
     "output_type": "display_data"
    }
   ],
   "source": [
    "HvA_spread = plt.figure(figsize = (15,9))\n",
    "\n",
    "hs1 = HvA_spread.add_subplot(1,1,1)\n",
    "hs1.set_title('Home vs. Away Spread')\n",
    "hs1.set_xlabel('Spread')\n",
    "hs1.set_ylabel('Probability')\n",
    "hs1.set_ylim(-0.001,0.04,0.005)\n",
    "hs1.set_yticks(np.arange(0,0.045,0.005))\n",
    "hs1.set_xticks(HvA_spread_bins)\n",
    "\n",
    "n, bins, patches = hs1.hist([cleaned_home_games['HOME SPREAD'], cleaned_away_games['AWAY SPREAD']], bins = HvA_spread_bins, label = ['Home Spread', 'Away Spread'], normed = 1)\n",
    "plt.scatter(np.mean(cleaned_home_games['HOME SPREAD']), 0, color=['r'], s = 100, label = 'Home Spread Average')\n",
    "plt.scatter(np.mean(cleaned_away_games['AWAY SPREAD']), 0, color=['g'], s = 100, label = 'Away Spread Average')\n",
    "hs1.grid()\n",
    "\n",
    "hs1.legend(loc = (0.8,0.8))"
   ]
  },
  {
   "cell_type": "markdown",
   "metadata": {},
   "source": [
    "Below we define some functions we will use in our analysis later on:"
   ]
  },
  {
   "cell_type": "code",
   "execution_count": 21,
   "metadata": {
    "collapsed": true
   },
   "outputs": [],
   "source": [
    "def permutation_test_continuous(df, variable, classes, repetitions):\n",
    "\n",
    "    df = df.sort_values(classes)\n",
    "    df = df.reset_index()\n",
    "    \n",
    "    #observed test statistic\n",
    "    df = df[[variable, classes]]\n",
    "    df_pivot = df.pivot_table(index=classes, values = variable, fill_value = 0)\n",
    "    observed_stat = abs(df_pivot.iloc[0][0] - df_pivot.iloc[1][0])\n",
    "    \n",
    "    #simulate under the null hypo \n",
    "    meandiffs = []\n",
    "    df_size = len(df)\n",
    "    for i in np.arange(repetitions):\n",
    "        \n",
    "        #shuffle the dataframe by sampling with replacement\n",
    "        shuffled_df = df.sample(df_size, replace=False)\n",
    "        \n",
    "        #reset the index so that the shuffled order is maintained\n",
    "    \n",
    "        shuffled_df = shuffled_df.reset_index()\n",
    "        \n",
    "        #create a new temp dataframe with the original classes\n",
    "        #and the variable values in this shuffled order\n",
    "        permuted_df = pd.DataFrame({classes : df[classes], variable : shuffled_df[variable]})\n",
    "        permuted_df_pivot = permuted_df.pivot_table(index=classes, values = variable, fill_value = 0)\n",
    "        \n",
    "        #find the meandiff\n",
    "        current_meandiff = (permuted_df_pivot.iloc[0][0] - permuted_df_pivot.iloc[1][0])\n",
    "        meandiffs.append(current_meandiff)\n",
    "        \n",
    "    meandiffs = np.array(meandiffs)\n",
    "    plt.hist(meandiffs, ec = 'black')\n",
    "    plt.scatter(observed_stat, 0, s=30, color='g')\n",
    "    return(meandiffs, observed_stat)"
   ]
  },
  {
   "cell_type": "code",
   "execution_count": 22,
   "metadata": {
    "collapsed": true
   },
   "outputs": [],
   "source": [
    "def permutation_test_continuous_2(df, variable, classes, repetitions):\n",
    "\n",
    "    df = df.sort_values(classes)\n",
    "    df = df.reset_index()\n",
    "    \n",
    "    #observed test statistic\n",
    "    df = df[[variable, classes]]\n",
    "    df_pivot = df.pivot_table(index=classes, values = variable, fill_value = 0)\n",
    "    observed_stat = abs(df_pivot.iloc[0][0] - df_pivot.iloc[1][0])\n",
    "    \n",
    "    #simulate under the null hypo \n",
    "    meandiffs = []\n",
    "    df_size = len(df)\n",
    "    for i in np.arange(repetitions):\n",
    "        \n",
    "        #shuffle the dataframe by sampling with replacement\n",
    "        shuffled_df = df.sample(df_size, replace=False)\n",
    "        \n",
    "        #reset the index so that the shuffled order is maintained\n",
    "    \n",
    "        shuffled_df = shuffled_df.reset_index()\n",
    "        \n",
    "        #create a new temp dataframe with the original classes\n",
    "        #and the variable values in this shuffled order\n",
    "        permuted_df = pd.DataFrame({classes : df[classes], variable : shuffled_df[variable]})\n",
    "        permuted_df_pivot = permuted_df.pivot_table(index=classes, values = variable, fill_value = 0)\n",
    "        \n",
    "        #find the meandiff\n",
    "        current_meandiff = (permuted_df_pivot.iloc[0][0] - permuted_df_pivot.iloc[1][0])\n",
    "        meandiffs.append(current_meandiff)\n",
    "        \n",
    "    return(meandiffs, observed_stat)"
   ]
  },
  {
   "cell_type": "code",
   "execution_count": 23,
   "metadata": {
    "collapsed": true
   },
   "outputs": [],
   "source": [
    "def get_p_value(x,y):\n",
    "    p_value = np.sum(x > y)/len(x)\n",
    "    return p_value"
   ]
  },
  {
   "cell_type": "markdown",
   "metadata": {},
   "source": [
    "# Hypothesis Test 1"
   ]
  },
  {
   "cell_type": "markdown",
   "metadata": {},
   "source": [
    "We take the average of the home spread mean and the away spread mean. Then we take the difference between the home spread and the away spread to get the difference as our statistic.\n",
    "\n"
   ]
  },
  {
   "cell_type": "markdown",
   "metadata": {},
   "source": [
    "Null Hypothesis: The home and away spread samples are drawn from the same underlying population; they look like random draws from the same set.\n",
    "    \n",
    "Alternative Hypothesis: The home spread is drawn from a underlying distribution with a higher mean than the distribution where the away spread is drawn from; they do not look like random draws from the same set. Essentialy, it means that there is home advantage."
   ]
  },
  {
   "cell_type": "code",
   "execution_count": 24,
   "metadata": {
    "collapsed": true
   },
   "outputs": [],
   "source": [
    "home_spread_mean = np.mean(cleaned_basketball_data[cleaned_basketball_data[\"HOME.TEAM\"] == True][\"SPREAD\"])\n",
    "away_spread_mean = np.mean(cleaned_basketball_data[cleaned_basketball_data[\"HOME.TEAM\"] == False][\"SPREAD\"])\n",
    "observed_diff = home_spread_mean - away_spread_mean"
   ]
  },
  {
   "cell_type": "code",
   "execution_count": 25,
   "metadata": {},
   "outputs": [
    {
     "data": {
      "text/plain": [
       "6.297560975609756"
      ]
     },
     "execution_count": 25,
     "metadata": {},
     "output_type": "execute_result"
    }
   ],
   "source": [
    "observed_diff"
   ]
  },
  {
   "cell_type": "code",
   "execution_count": 26,
   "metadata": {
    "collapsed": true
   },
   "outputs": [],
   "source": [
    "diffs = np.array([])\n",
    "iterations = 5000\n",
    "\n",
    "for i in np.arange(0, iterations):\n",
    "    cleaned_basketball_data[\"SHUFFLED SPREAD\"] = np.random.choice(cleaned_basketball_data[\"SPREAD\"],len(cleaned_basketball_data[\"SPREAD\"]))\n",
    "    home_spread_mean = np.mean(cleaned_basketball_data[cleaned_basketball_data[\"HOME.TEAM\"] == True][\"SHUFFLED SPREAD\"])\n",
    "    away_spread_mean = np.mean(cleaned_basketball_data[cleaned_basketball_data[\"HOME.TEAM\"] == False][\"SHUFFLED SPREAD\"])\n",
    "    diff_mean = home_spread_mean - away_spread_mean\n",
    "    diffs = np.append(diffs, diff_mean)"
   ]
  },
  {
   "cell_type": "code",
   "execution_count": 27,
   "metadata": {},
   "outputs": [
    {
     "data": {
      "image/png": "[encoded data removed]",
      "text/plain": [
       "<matplotlib.figure.Figure at 0x11d77ff60>"
      ]
     },
     "metadata": {},
     "output_type": "display_data"
    }
   ],
   "source": [
    "spread_diffs = plt.figure(figsize = (10,6))\n",
    "\n",
    "sd1 = spread_diffs.add_subplot(1,1,1)\n",
    "sd1.set_title('Distribution of Difference in Home vs. Away Spread (if Random)')\n",
    "sd1.set_xlabel('Difference in Home vs. Away Spread')\n",
    "sd1.set_ylabel('Probability')\n",
    "sd1.set_ylim(-0.05,1)\n",
    "sd1.set_yticks(np.arange(0,1.1,.1))\n",
    "n, bins, patches = sd1.hist(diffs, normed = 1)\n",
    "plt.scatter(observed_diff, 0, s=50, color='g')\n",
    "sd1.grid()"
   ]
  },
  {
   "cell_type": "code",
   "execution_count": 28,
   "metadata": {},
   "outputs": [
    {
     "data": {
      "text/plain": [
       "0.0"
      ]
     },
     "execution_count": 28,
     "metadata": {},
     "output_type": "execute_result"
    }
   ],
   "source": [
    "p_value = get_p_value(diffs, observed_diff)\n",
    "p_value"
   ]
  },
  {
   "cell_type": "markdown",
   "metadata": {},
   "source": [
    "Since the p-value for our hypothesis is less than 0.05 and since we can see that our actual difference in home and away spread of about 6.3 is not even on our histogram, we are able to reject the null hypothesis that the home and away spreads of basketball games are drawn from the same population."
   ]
  },
  {
   "cell_type": "markdown",
   "metadata": {},
   "source": [
    "Our hypothesis test above is the same as running the simulation right below this:"
   ]
  },
  {
   "cell_type": "code",
   "execution_count": 29,
   "metadata": {},
   "outputs": [
    {
     "data": {
      "image/png": "[encoded data removed]",
      "text/plain": [
       "<matplotlib.figure.Figure at 0x11d7b3160>"
      ]
     },
     "metadata": {},
     "output_type": "display_data"
    }
   ],
   "source": [
    "(simulated_league_spread_diff, observed_league_spread_diff) = permutation_test_continuous(cleaned_basketball_data, 'SPREAD', 'HOME.TEAM', 5000)"
   ]
  },
  {
   "cell_type": "code",
   "execution_count": 30,
   "metadata": {},
   "outputs": [
    {
     "data": {
      "text/plain": [
       "0.0"
      ]
     },
     "execution_count": 30,
     "metadata": {},
     "output_type": "execute_result"
    }
   ],
   "source": [
    "league_spread_diff_p_value = get_p_value(simulated_league_spread_diff, observed_league_spread_diff)\n",
    "league_spread_diff_p_value"
   ]
  },
  {
   "cell_type": "markdown",
   "metadata": {},
   "source": [
    "# Hypothesis Test 2"
   ]
  },
  {
   "cell_type": "markdown",
   "metadata": {},
   "source": [
    "We will perform a hypothesis test to see if the difference in home and away spread for the Golden State Warriors is from the same population as the rest of the league or not."
   ]
  },
  {
   "cell_type": "markdown",
   "metadata": {},
   "source": [
    "Null Hypothesis: The difference between home and away spread for the Golden State Warriors and the difference between the home and away spread for all the teams in the league are drawn from the same underlying population; they look like random draws from the same set.\n",
    "    \n",
    "Alternative Hypothesis: The difference between home and away spread for the Golden State Warriors is drawn from a underlying distribution with a higher mean than the distribution where the difference between home and away spread for all the teams in the league is drawn from; they do not look like random draws from the same set."
   ]
  },
  {
   "cell_type": "code",
   "execution_count": 31,
   "metadata": {},
   "outputs": [
    {
     "data": {
      "text/plain": [
       "8.634146341463413"
      ]
     },
     "execution_count": 31,
     "metadata": {},
     "output_type": "execute_result"
    }
   ],
   "source": [
    "real_gs_diff = np.mean(cleaned_home_games[cleaned_home_games['TEAM'] == 'GOLDEN STATE WARRIORS']['HOME SPREAD']) - np.mean(cleaned_away_games[cleaned_away_games['TEAM'] == 'GOLDEN STATE WARRIORS']['AWAY SPREAD'])\n",
    "real_gs_diff"
   ]
  },
  {
   "cell_type": "code",
   "execution_count": 32,
   "metadata": {
    "collapsed": true
   },
   "outputs": [],
   "source": [
    "team_diffs = np.array([])\n",
    "iterations = 20000\n",
    "\n",
    "for i in np.arange(0, iterations):\n",
    "    #we take all of the home spreads and all of the away spreads, and then randomly assign 41 home games and 41 away games to that team because each team plays 82 games per season\n",
    "    team_home_spread_mean = np.mean(cleaned_home_games['HOME SPREAD'].sample(41, replace = False))\n",
    "    team_away_spread_mean = np.mean(cleaned_away_games['AWAY SPREAD'].sample(41, replace = False)) \n",
    "    team_diff = team_home_spread_mean - team_away_spread_mean\n",
    "    team_diffs = np.append(team_diffs, team_diff)"
   ]
  },
  {
   "cell_type": "code",
   "execution_count": 33,
   "metadata": {},
   "outputs": [
    {
     "data": {
      "image/png": "[encoded data removed]",
      "text/plain": [
       "<matplotlib.figure.Figure at 0x11df0ba58>"
      ]
     },
     "metadata": {},
     "output_type": "display_data"
    }
   ],
   "source": [
    "spread_team_diff = plt.figure(figsize = (12,6))\n",
    "\n",
    "std1 = spread_team_diff.add_subplot(1,1,1)\n",
    "std1.set_title('Distribution of Difference in Home and Away Spread for a Single Team')\n",
    "std1.set_xlabel('Difference in Home and Away Spread')\n",
    "std1.set_ylabel('Probability')\n",
    "std1.set_yticks(np.arange(0,1,.02))\n",
    "std1.set_ylim(0,0.2)\n",
    "std1.set_xticks(np.arange(round(np.min(team_diffs)-2), np.max(team_diffs)+3, 1))\n",
    "n, bins, patches = std1.hist(team_diffs, bins = np.arange(round(np.min(team_diffs)-2), np.max(team_diffs)+3, 1), normed = 1)\n",
    "std1.grid()"
   ]
  },
  {
   "cell_type": "code",
   "execution_count": 34,
   "metadata": {},
   "outputs": [
    {
     "data": {
      "text/plain": [
       "6.3146804878048783"
      ]
     },
     "execution_count": 34,
     "metadata": {},
     "output_type": "execute_result"
    }
   ],
   "source": [
    "np.mean(team_diffs)"
   ]
  },
  {
   "cell_type": "code",
   "execution_count": 35,
   "metadata": {},
   "outputs": [
    {
     "data": {
      "text/plain": [
       "0.22209999999999999"
      ]
     },
     "execution_count": 35,
     "metadata": {},
     "output_type": "execute_result"
    }
   ],
   "source": [
    "p_value_gs = get_p_value(team_diffs, real_gs_diff)\n",
    "p_value_gs"
   ]
  },
  {
   "cell_type": "markdown",
   "metadata": {},
   "source": [
    "Since the p-value for our hypothesis test is above 0.05, we fail to reject our null hypothesis."
   ]
  },
  {
   "cell_type": "markdown",
   "metadata": {},
   "source": [
    "Now we intend to compute a confidence interval for the difference between the home spread and the away spread that tells us the cutoff for when there is home court advantage"
   ]
  },
  {
   "cell_type": "code",
   "execution_count": 36,
   "metadata": {
    "collapsed": true
   },
   "outputs": [],
   "source": [
    "upper_bound = np.percentile(team_diffs, 97.5)"
   ]
  },
  {
   "cell_type": "code",
   "execution_count": 37,
   "metadata": {
    "collapsed": true
   },
   "outputs": [],
   "source": [
    "lower_bound = np.percentile(team_diffs, 2.5)"
   ]
  },
  {
   "cell_type": "code",
   "execution_count": 38,
   "metadata": {},
   "outputs": [
    {
     "name": "stdout",
     "output_type": "stream",
     "text": [
      "The confidence interval of the difference between the home spread and the away spread for a given team is [0.462804878049,12.1219512195]\n"
     ]
    }
   ],
   "source": [
    "print(\"The confidence interval of the difference between the home spread and the away spread for a given team is [\" + str(lower_bound) + ',' + str(upper_bound) + \"]\")"
   ]
  },
  {
   "cell_type": "markdown",
   "metadata": {},
   "source": [
    "We fail to reject the null hypothesis in the 2nd test, and based on the confidence interval above, we would fail to reject the null hypothesis in the 2nd test for any team in the NBA since the 95% CI above encompasses the actual differences in home and away spread for all 30 NBA teams. The confidence interval here shows a range of values for the difference between the home and away spread for a team in the league that plays an entire season (41 home games and 41 away homes) that would not be considered statistically significantly different from the league distribution."
   ]
  },
  {
   "cell_type": "code",
   "execution_count": 39,
   "metadata": {},
   "outputs": [
    {
     "data": {
      "text/html": [
       "<div>\n",
       "<style>\n",
       "    .dataframe thead tr:only-child th {\n",
       "        text-align: right;\n",
       "    }\n",
       "\n",
       "    .dataframe thead th {\n",
       "        text-align: left;\n",
       "    }\n",
       "\n",
       "    .dataframe tbody tr th {\n",
       "        vertical-align: top;\n",
       "    }\n",
       "</style>\n",
       "<table border=\"1\" class=\"dataframe\">\n",
       "  <thead>\n",
       "    <tr style=\"text-align: right;\">\n",
       "      <th></th>\n",
       "      <th>TEAM</th>\n",
       "      <th>HOME SPREAD</th>\n",
       "      <th>AWAY SPREAD</th>\n",
       "      <th>DIFF IN SPREAD</th>\n",
       "    </tr>\n",
       "  </thead>\n",
       "  <tbody>\n",
       "    <tr>\n",
       "      <th>11</th>\n",
       "      <td>INDIANA PACERS</td>\n",
       "      <td>5.219512</td>\n",
       "      <td>-5.658537</td>\n",
       "      <td>10.878049</td>\n",
       "    </tr>\n",
       "    <tr>\n",
       "      <th>13</th>\n",
       "      <td>LOS ANGELES LAKERS</td>\n",
       "      <td>-1.560976</td>\n",
       "      <td>-12.195122</td>\n",
       "      <td>10.634146</td>\n",
       "    </tr>\n",
       "    <tr>\n",
       "      <th>20</th>\n",
       "      <td>OKLAHOMA CITY THUNDER</td>\n",
       "      <td>5.951220</td>\n",
       "      <td>-4.439024</td>\n",
       "      <td>10.390244</td>\n",
       "    </tr>\n",
       "    <tr>\n",
       "      <th>8</th>\n",
       "      <td>DETROIT PISTONS</td>\n",
       "      <td>4.048780</td>\n",
       "      <td>-6.292683</td>\n",
       "      <td>10.341463</td>\n",
       "    </tr>\n",
       "    <tr>\n",
       "      <th>5</th>\n",
       "      <td>CLEVELAND CAVALIERS</td>\n",
       "      <td>8.170732</td>\n",
       "      <td>-1.804878</td>\n",
       "      <td>9.975610</td>\n",
       "    </tr>\n",
       "  </tbody>\n",
       "</table>\n",
       "</div>"
      ],
      "text/plain": [
       "                     TEAM  HOME SPREAD  AWAY SPREAD  DIFF IN SPREAD\n",
       "11         INDIANA PACERS     5.219512    -5.658537       10.878049\n",
       "13     LOS ANGELES LAKERS    -1.560976   -12.195122       10.634146\n",
       "20  OKLAHOMA CITY THUNDER     5.951220    -4.439024       10.390244\n",
       "8         DETROIT PISTONS     4.048780    -6.292683       10.341463\n",
       "5     CLEVELAND CAVALIERS     8.170732    -1.804878        9.975610"
      ]
     },
     "execution_count": 39,
     "metadata": {},
     "output_type": "execute_result"
    }
   ],
   "source": [
    "ordered_diff_spread_by_team = spread_by_team.sort_values('DIFF IN SPREAD', ascending = False)\n",
    "ordered_diff_spread_by_team.head()"
   ]
  },
  {
   "cell_type": "code",
   "execution_count": 40,
   "metadata": {},
   "outputs": [
    {
     "data": {
      "text/plain": [
       "10.878048780487806"
      ]
     },
     "execution_count": 40,
     "metadata": {},
     "output_type": "execute_result"
    }
   ],
   "source": [
    "np.max(spread_by_team['DIFF IN SPREAD'])"
   ]
  },
  {
   "cell_type": "code",
   "execution_count": 41,
   "metadata": {},
   "outputs": [
    {
     "data": {
      "text/plain": [
       "1.902439024390244"
      ]
     },
     "execution_count": 41,
     "metadata": {},
     "output_type": "execute_result"
    }
   ],
   "source": [
    "np.min(spread_by_team['DIFF IN SPREAD'])"
   ]
  },
  {
   "cell_type": "markdown",
   "metadata": {},
   "source": [
    "The confidence interval includes both the maximum value and minimum value of the difference between the home and away spread of all 30 teams, which is 10.88 and 1.90 respectively. The statistic for all teams fall within the confidence interval of the league. Thus we can come to the conclusion that no teams are statistically significant from the league average for difference between the home and away spread. "
   ]
  },
  {
   "cell_type": "markdown",
   "metadata": {},
   "source": [
    "# Hypothesis Testing 3"
   ]
  },
  {
   "cell_type": "markdown",
   "metadata": {},
   "source": [
    "We will perform a hypothesis test to see if the home and away spread for the Golden State Warriors is from the same population or not."
   ]
  },
  {
   "cell_type": "markdown",
   "metadata": {},
   "source": [
    "Null Hypothesis: The home and away spread for the Golden State Warriors are drawn from the same underlying population; they look like random draws from the same set.\n",
    "    \n",
    "Alternative Hypothesis: The home spread of Golden State Warriors is drawn from a underlying distribution with a higher mean than the distribution where the away spread of Golden State Warriors is drawn from; they do not look like random draws from the same set.\n"
   ]
  },
  {
   "cell_type": "code",
   "execution_count": 42,
   "metadata": {
    "collapsed": true
   },
   "outputs": [],
   "source": [
    "gs_sample_spread_diffs = np.array([])\n",
    "iterations = 5000\n",
    "\n",
    "for i in np.arange(iterations):\n",
    "    home_spread_gs = cleaned_home_games[cleaned_home_games['TEAM'] =='GOLDEN STATE WARRIORS']\n",
    "    away_spread_gs = cleaned_away_games[cleaned_away_games['TEAM'] =='GOLDEN STATE WARRIORS']\n",
    "    gs_home_sample_spread_mean = np.mean(home_spread_gs['HOME SPREAD'].sample(41, replace = True))\n",
    "    gs_away_sample_spread_mean = np.mean(away_spread_gs['AWAY SPREAD'].sample(41, replace = True))\n",
    "    gs_sample_spread_diff = gs_home_sample_spread_mean - gs_away_sample_spread_mean\n",
    "    gs_sample_spread_diffs = np.append(gs_sample_spread_diffs, gs_sample_spread_diff)"
   ]
  },
  {
   "cell_type": "code",
   "execution_count": 43,
   "metadata": {},
   "outputs": [
    {
     "data": {
      "image/png": "[encoded data removed]",
      "text/plain": [
       "<matplotlib.figure.Figure at 0x11e1164e0>"
      ]
     },
     "metadata": {},
     "output_type": "display_data"
    }
   ],
   "source": [
    "gs_sample_spread_diff_dist = plt.figure(figsize = (12,6))\n",
    "\n",
    "gssdd1 = gs_sample_spread_diff_dist.add_subplot(1,1,1)\n",
    "gssdd1.set_title('Distribution of Difference in Spread for Golden State')\n",
    "gssdd1.set_ylabel('Probability')\n",
    "gssdd1.set_xlabel('Difference in Home and Away Spread')\n",
    "gssdd1.hist(gs_sample_spread_diffs, bins = 20, normed = 1)\n",
    "gssdd1.grid()"
   ]
  },
  {
   "cell_type": "code",
   "execution_count": 44,
   "metadata": {},
   "outputs": [
    {
     "data": {
      "text/plain": [
       "0.0030000000000000027"
      ]
     },
     "execution_count": 44,
     "metadata": {},
     "output_type": "execute_result"
    }
   ],
   "source": [
    "#p-valus for this test is actually 1 minus our p-value function\n",
    "p_value_gs = 1 - get_p_value(gs_sample_spread_diffs, 0)\n",
    "p_value_gs"
   ]
  },
  {
   "cell_type": "markdown",
   "metadata": {},
   "source": [
    "Thus, we decided to calculate the p-value for all 30 teams to see whether their homad and away spread are drawn from the same underlying population."
   ]
  },
  {
   "cell_type": "code",
   "execution_count": 45,
   "metadata": {
    "collapsed": true
   },
   "outputs": [],
   "source": [
    "def diff_spread_p_value_single_team(team, iterations):\n",
    "    team_sample_spread_diffs = np.array([])\n",
    "    iterations = iterations\n",
    "\n",
    "    for i in np.arange(iterations):\n",
    "        home_spread_team = cleaned_home_games[cleaned_home_games['TEAM'] == team]\n",
    "        away_spread_team = cleaned_away_games[cleaned_away_games['TEAM'] == team]\n",
    "        team_home_sample_spread_mean = np.mean(home_spread_team['HOME SPREAD'].sample(41, replace = True))\n",
    "        team_away_sample_spread_mean = np.mean(away_spread_team['AWAY SPREAD'].sample(41, replace = True))\n",
    "        team_sample_spread_diff = team_home_sample_spread_mean - team_away_sample_spread_mean\n",
    "        team_sample_spread_diffs = np.append(team_sample_spread_diffs, team_sample_spread_diff)\n",
    "    return team_sample_spread_diffs"
   ]
  },
  {
   "cell_type": "code",
   "execution_count": 46,
   "metadata": {
    "collapsed": true
   },
   "outputs": [],
   "source": [
    "spread_result_df = pd.read_csv(\"p_value_spread_team.csv\")"
   ]
  },
  {
   "cell_type": "code",
   "execution_count": 47,
   "metadata": {},
   "outputs": [
    {
     "data": {
      "text/html": [
       "<div>\n",
       "<style>\n",
       "    .dataframe thead tr:only-child th {\n",
       "        text-align: right;\n",
       "    }\n",
       "\n",
       "    .dataframe thead th {\n",
       "        text-align: left;\n",
       "    }\n",
       "\n",
       "    .dataframe tbody tr th {\n",
       "        vertical-align: top;\n",
       "    }\n",
       "</style>\n",
       "<table border=\"1\" class=\"dataframe\">\n",
       "  <thead>\n",
       "    <tr style=\"text-align: right;\">\n",
       "      <th></th>\n",
       "      <th>p_values_diff_spread</th>\n",
       "      <th>teams</th>\n",
       "    </tr>\n",
       "  </thead>\n",
       "  <tbody>\n",
       "    <tr>\n",
       "      <th>0</th>\n",
       "      <td>0.2606</td>\n",
       "      <td>ATLANTA HAWKS</td>\n",
       "    </tr>\n",
       "    <tr>\n",
       "      <th>1</th>\n",
       "      <td>0.1282</td>\n",
       "      <td>BOSTON CELTICS</td>\n",
       "    </tr>\n",
       "    <tr>\n",
       "      <th>2</th>\n",
       "      <td>0.2018</td>\n",
       "      <td>BROOKLYN NETS</td>\n",
       "    </tr>\n",
       "    <tr>\n",
       "      <th>3</th>\n",
       "      <td>0.0114</td>\n",
       "      <td>CHARLOTTE HORNETS</td>\n",
       "    </tr>\n",
       "    <tr>\n",
       "      <th>4</th>\n",
       "      <td>0.0546</td>\n",
       "      <td>CHICAGO BULLS</td>\n",
       "    </tr>\n",
       "    <tr>\n",
       "      <th>5</th>\n",
       "      <td>0.0002</td>\n",
       "      <td>CLEVELAND CAVALIERS</td>\n",
       "    </tr>\n",
       "    <tr>\n",
       "      <th>6</th>\n",
       "      <td>0.0022</td>\n",
       "      <td>DALLAS MAVERICKS</td>\n",
       "    </tr>\n",
       "    <tr>\n",
       "      <th>7</th>\n",
       "      <td>0.0312</td>\n",
       "      <td>DENVER NUGGETS</td>\n",
       "    </tr>\n",
       "    <tr>\n",
       "      <th>8</th>\n",
       "      <td>0.0018</td>\n",
       "      <td>DETROIT PISTONS</td>\n",
       "    </tr>\n",
       "    <tr>\n",
       "      <th>9</th>\n",
       "      <td>0.0014</td>\n",
       "      <td>GOLDEN STATE WARRIORS</td>\n",
       "    </tr>\n",
       "    <tr>\n",
       "      <th>10</th>\n",
       "      <td>0.0254</td>\n",
       "      <td>HOUSTON ROCKETS</td>\n",
       "    </tr>\n",
       "    <tr>\n",
       "      <th>11</th>\n",
       "      <td>0.0000</td>\n",
       "      <td>INDIANA PACERS</td>\n",
       "    </tr>\n",
       "    <tr>\n",
       "      <th>12</th>\n",
       "      <td>0.0006</td>\n",
       "      <td>LA CLIPPERS</td>\n",
       "    </tr>\n",
       "    <tr>\n",
       "      <th>13</th>\n",
       "      <td>0.0000</td>\n",
       "      <td>LOS ANGELES LAKERS</td>\n",
       "    </tr>\n",
       "    <tr>\n",
       "      <th>14</th>\n",
       "      <td>0.1198</td>\n",
       "      <td>MEMPHIS GRIZZLIES</td>\n",
       "    </tr>\n",
       "    <tr>\n",
       "      <th>15</th>\n",
       "      <td>0.0096</td>\n",
       "      <td>MIAMI HEAT</td>\n",
       "    </tr>\n",
       "    <tr>\n",
       "      <th>16</th>\n",
       "      <td>0.0298</td>\n",
       "      <td>MILWAUKEE BUCKS</td>\n",
       "    </tr>\n",
       "    <tr>\n",
       "      <th>17</th>\n",
       "      <td>0.0006</td>\n",
       "      <td>MINNESOTA TIMBERWOLVES</td>\n",
       "    </tr>\n",
       "    <tr>\n",
       "      <th>18</th>\n",
       "      <td>0.0370</td>\n",
       "      <td>NEW ORLEANS PELICANS</td>\n",
       "    </tr>\n",
       "    <tr>\n",
       "      <th>19</th>\n",
       "      <td>0.0332</td>\n",
       "      <td>NEW YORK KNICKS</td>\n",
       "    </tr>\n",
       "    <tr>\n",
       "      <th>20</th>\n",
       "      <td>0.0000</td>\n",
       "      <td>OKLAHOMA CITY THUNDER</td>\n",
       "    </tr>\n",
       "    <tr>\n",
       "      <th>21</th>\n",
       "      <td>0.0328</td>\n",
       "      <td>ORLANDO MAGIC</td>\n",
       "    </tr>\n",
       "    <tr>\n",
       "      <th>22</th>\n",
       "      <td>0.0606</td>\n",
       "      <td>PHILADELPHIA 76ERS</td>\n",
       "    </tr>\n",
       "    <tr>\n",
       "      <th>23</th>\n",
       "      <td>0.0040</td>\n",
       "      <td>PHOENIX SUNS</td>\n",
       "    </tr>\n",
       "    <tr>\n",
       "      <th>24</th>\n",
       "      <td>0.0066</td>\n",
       "      <td>PORTLAND TRAIL BLAZERS</td>\n",
       "    </tr>\n",
       "    <tr>\n",
       "      <th>25</th>\n",
       "      <td>0.0672</td>\n",
       "      <td>SACRAMENTO KINGS</td>\n",
       "    </tr>\n",
       "    <tr>\n",
       "      <th>26</th>\n",
       "      <td>0.2312</td>\n",
       "      <td>SAN ANTONIO SPURS</td>\n",
       "    </tr>\n",
       "    <tr>\n",
       "      <th>27</th>\n",
       "      <td>0.0058</td>\n",
       "      <td>TORONTO RAPTORS</td>\n",
       "    </tr>\n",
       "    <tr>\n",
       "      <th>28</th>\n",
       "      <td>0.0420</td>\n",
       "      <td>UTAH JAZZ</td>\n",
       "    </tr>\n",
       "    <tr>\n",
       "      <th>29</th>\n",
       "      <td>0.0046</td>\n",
       "      <td>WASHINGTON WIZARDS</td>\n",
       "    </tr>\n",
       "  </tbody>\n",
       "</table>\n",
       "</div>"
      ],
      "text/plain": [
       "    p_values_diff_spread                   teams\n",
       "0                 0.2606           ATLANTA HAWKS\n",
       "1                 0.1282          BOSTON CELTICS\n",
       "2                 0.2018           BROOKLYN NETS\n",
       "3                 0.0114       CHARLOTTE HORNETS\n",
       "4                 0.0546           CHICAGO BULLS\n",
       "5                 0.0002     CLEVELAND CAVALIERS\n",
       "6                 0.0022        DALLAS MAVERICKS\n",
       "7                 0.0312          DENVER NUGGETS\n",
       "8                 0.0018         DETROIT PISTONS\n",
       "9                 0.0014   GOLDEN STATE WARRIORS\n",
       "10                0.0254         HOUSTON ROCKETS\n",
       "11                0.0000          INDIANA PACERS\n",
       "12                0.0006             LA CLIPPERS\n",
       "13                0.0000      LOS ANGELES LAKERS\n",
       "14                0.1198       MEMPHIS GRIZZLIES\n",
       "15                0.0096              MIAMI HEAT\n",
       "16                0.0298         MILWAUKEE BUCKS\n",
       "17                0.0006  MINNESOTA TIMBERWOLVES\n",
       "18                0.0370    NEW ORLEANS PELICANS\n",
       "19                0.0332         NEW YORK KNICKS\n",
       "20                0.0000   OKLAHOMA CITY THUNDER\n",
       "21                0.0328           ORLANDO MAGIC\n",
       "22                0.0606      PHILADELPHIA 76ERS\n",
       "23                0.0040            PHOENIX SUNS\n",
       "24                0.0066  PORTLAND TRAIL BLAZERS\n",
       "25                0.0672        SACRAMENTO KINGS\n",
       "26                0.2312       SAN ANTONIO SPURS\n",
       "27                0.0058         TORONTO RAPTORS\n",
       "28                0.0420               UTAH JAZZ\n",
       "29                0.0046      WASHINGTON WIZARDS"
      ]
     },
     "execution_count": 47,
     "metadata": {},
     "output_type": "execute_result"
    }
   ],
   "source": [
    "spread_result_df = spread_result_df.drop('Unnamed: 0', axis = 1)\n",
    "spread_result_df"
   ]
  },
  {
   "cell_type": "code",
   "execution_count": 48,
   "metadata": {},
   "outputs": [
    {
     "data": {
      "text/html": [
       "<div>\n",
       "<style>\n",
       "    .dataframe thead tr:only-child th {\n",
       "        text-align: right;\n",
       "    }\n",
       "\n",
       "    .dataframe thead th {\n",
       "        text-align: left;\n",
       "    }\n",
       "\n",
       "    .dataframe tbody tr th {\n",
       "        vertical-align: top;\n",
       "    }\n",
       "</style>\n",
       "<table border=\"1\" class=\"dataframe\">\n",
       "  <thead>\n",
       "    <tr style=\"text-align: right;\">\n",
       "      <th></th>\n",
       "      <th>TEAM</th>\n",
       "      <th>HOME SPREAD</th>\n",
       "      <th>AWAY SPREAD</th>\n",
       "      <th>DIFF IN SPREAD</th>\n",
       "      <th>p_value_diff_spread</th>\n",
       "    </tr>\n",
       "  </thead>\n",
       "  <tbody>\n",
       "    <tr>\n",
       "      <th>0</th>\n",
       "      <td>ATLANTA HAWKS</td>\n",
       "      <td>0.097561</td>\n",
       "      <td>-1.804878</td>\n",
       "      <td>1.902439</td>\n",
       "      <td>0.2606</td>\n",
       "    </tr>\n",
       "    <tr>\n",
       "      <th>1</th>\n",
       "      <td>BOSTON CELTICS</td>\n",
       "      <td>4.073171</td>\n",
       "      <td>1.195122</td>\n",
       "      <td>2.878049</td>\n",
       "      <td>0.1282</td>\n",
       "    </tr>\n",
       "    <tr>\n",
       "      <th>2</th>\n",
       "      <td>BROOKLYN NETS</td>\n",
       "      <td>-5.536585</td>\n",
       "      <td>-7.926829</td>\n",
       "      <td>2.390244</td>\n",
       "      <td>0.2018</td>\n",
       "    </tr>\n",
       "    <tr>\n",
       "      <th>3</th>\n",
       "      <td>CHARLOTTE HORNETS</td>\n",
       "      <td>3.219512</td>\n",
       "      <td>-2.829268</td>\n",
       "      <td>6.048780</td>\n",
       "      <td>0.0114</td>\n",
       "    </tr>\n",
       "    <tr>\n",
       "      <th>4</th>\n",
       "      <td>CHICAGO BULLS</td>\n",
       "      <td>3.048780</td>\n",
       "      <td>-2.195122</td>\n",
       "      <td>5.243902</td>\n",
       "      <td>0.0546</td>\n",
       "    </tr>\n",
       "  </tbody>\n",
       "</table>\n",
       "</div>"
      ],
      "text/plain": [
       "                TEAM  HOME SPREAD  AWAY SPREAD  DIFF IN SPREAD  \\\n",
       "0      ATLANTA HAWKS     0.097561    -1.804878        1.902439   \n",
       "1     BOSTON CELTICS     4.073171     1.195122        2.878049   \n",
       "2      BROOKLYN NETS    -5.536585    -7.926829        2.390244   \n",
       "3  CHARLOTTE HORNETS     3.219512    -2.829268        6.048780   \n",
       "4      CHICAGO BULLS     3.048780    -2.195122        5.243902   \n",
       "\n",
       "   p_value_diff_spread  \n",
       "0               0.2606  \n",
       "1               0.1282  \n",
       "2               0.2018  \n",
       "3               0.0114  \n",
       "4               0.0546  "
      ]
     },
     "execution_count": 48,
     "metadata": {},
     "output_type": "execute_result"
    }
   ],
   "source": [
    "spread_by_team['p_value_diff_spread'] = spread_result_df['p_values_diff_spread']\n",
    "spread_by_team.head()"
   ]
  },
  {
   "cell_type": "code",
   "execution_count": 49,
   "metadata": {},
   "outputs": [
    {
     "data": {
      "text/html": [
       "<div>\n",
       "<style>\n",
       "    .dataframe thead tr:only-child th {\n",
       "        text-align: right;\n",
       "    }\n",
       "\n",
       "    .dataframe thead th {\n",
       "        text-align: left;\n",
       "    }\n",
       "\n",
       "    .dataframe tbody tr th {\n",
       "        vertical-align: top;\n",
       "    }\n",
       "</style>\n",
       "<table border=\"1\" class=\"dataframe\">\n",
       "  <thead>\n",
       "    <tr style=\"text-align: right;\">\n",
       "      <th></th>\n",
       "      <th>TEAM</th>\n",
       "      <th>HOME SPREAD</th>\n",
       "      <th>AWAY SPREAD</th>\n",
       "      <th>DIFF IN SPREAD</th>\n",
       "      <th>p_value_diff_spread</th>\n",
       "    </tr>\n",
       "  </thead>\n",
       "  <tbody>\n",
       "    <tr>\n",
       "      <th>3</th>\n",
       "      <td>CHARLOTTE HORNETS</td>\n",
       "      <td>3.219512</td>\n",
       "      <td>-2.829268</td>\n",
       "      <td>6.048780</td>\n",
       "      <td>0.0114</td>\n",
       "    </tr>\n",
       "    <tr>\n",
       "      <th>5</th>\n",
       "      <td>CLEVELAND CAVALIERS</td>\n",
       "      <td>8.170732</td>\n",
       "      <td>-1.804878</td>\n",
       "      <td>9.975610</td>\n",
       "      <td>0.0002</td>\n",
       "    </tr>\n",
       "    <tr>\n",
       "      <th>6</th>\n",
       "      <td>DALLAS MAVERICKS</td>\n",
       "      <td>1.487805</td>\n",
       "      <td>-7.341463</td>\n",
       "      <td>8.829268</td>\n",
       "      <td>0.0022</td>\n",
       "    </tr>\n",
       "    <tr>\n",
       "      <th>7</th>\n",
       "      <td>DENVER NUGGETS</td>\n",
       "      <td>3.170732</td>\n",
       "      <td>-2.146341</td>\n",
       "      <td>5.317073</td>\n",
       "      <td>0.0312</td>\n",
       "    </tr>\n",
       "    <tr>\n",
       "      <th>8</th>\n",
       "      <td>DETROIT PISTONS</td>\n",
       "      <td>4.048780</td>\n",
       "      <td>-6.292683</td>\n",
       "      <td>10.341463</td>\n",
       "      <td>0.0018</td>\n",
       "    </tr>\n",
       "  </tbody>\n",
       "</table>\n",
       "</div>"
      ],
      "text/plain": [
       "                  TEAM  HOME SPREAD  AWAY SPREAD  DIFF IN SPREAD  \\\n",
       "3    CHARLOTTE HORNETS     3.219512    -2.829268        6.048780   \n",
       "5  CLEVELAND CAVALIERS     8.170732    -1.804878        9.975610   \n",
       "6     DALLAS MAVERICKS     1.487805    -7.341463        8.829268   \n",
       "7       DENVER NUGGETS     3.170732    -2.146341        5.317073   \n",
       "8      DETROIT PISTONS     4.048780    -6.292683       10.341463   \n",
       "\n",
       "   p_value_diff_spread  \n",
       "3               0.0114  \n",
       "5               0.0002  \n",
       "6               0.0022  \n",
       "7               0.0312  \n",
       "8               0.0018  "
      ]
     },
     "execution_count": 49,
     "metadata": {},
     "output_type": "execute_result"
    }
   ],
   "source": [
    "spread_by_team_significant_teams = spread_by_team[spread_by_team['p_value_diff_spread'] <= 0.05]\n",
    "spread_by_team_significant_teams.head()"
   ]
  },
  {
   "cell_type": "markdown",
   "metadata": {},
   "source": [
    "The following 22 teams have a significant difference between the home and away spread because the p-value for these 22 teams is below the significance level 0.05"
   ]
  },
  {
   "cell_type": "code",
   "execution_count": 50,
   "metadata": {},
   "outputs": [
    {
     "data": {
      "text/plain": [
       "3          CHARLOTTE HORNETS\n",
       "5        CLEVELAND CAVALIERS\n",
       "6           DALLAS MAVERICKS\n",
       "7             DENVER NUGGETS\n",
       "8            DETROIT PISTONS\n",
       "9      GOLDEN STATE WARRIORS\n",
       "10           HOUSTON ROCKETS\n",
       "11            INDIANA PACERS\n",
       "12               LA CLIPPERS\n",
       "13        LOS ANGELES LAKERS\n",
       "15                MIAMI HEAT\n",
       "16           MILWAUKEE BUCKS\n",
       "17    MINNESOTA TIMBERWOLVES\n",
       "18      NEW ORLEANS PELICANS\n",
       "19           NEW YORK KNICKS\n",
       "20     OKLAHOMA CITY THUNDER\n",
       "21             ORLANDO MAGIC\n",
       "23              PHOENIX SUNS\n",
       "24    PORTLAND TRAIL BLAZERS\n",
       "27           TORONTO RAPTORS\n",
       "28                 UTAH JAZZ\n",
       "29        WASHINGTON WIZARDS\n",
       "Name: teams, dtype: object"
      ]
     },
     "execution_count": 50,
     "metadata": {},
     "output_type": "execute_result"
    }
   ],
   "source": [
    "significant_teams_diff_spread = spread_result_df[spread_result_df['p_values_diff_spread'] <= 0.05]['teams']\n",
    "significant_teams_diff_spread"
   ]
  },
  {
   "cell_type": "markdown",
   "metadata": {},
   "source": [
    "The following 8 teams do not have a significant difference between the home and away spread because the p-value for these 8 teams is above the significance level 0.05"
   ]
  },
  {
   "cell_type": "code",
   "execution_count": 51,
   "metadata": {},
   "outputs": [
    {
     "data": {
      "text/plain": [
       "0          ATLANTA HAWKS\n",
       "1         BOSTON CELTICS\n",
       "2          BROOKLYN NETS\n",
       "4          CHICAGO BULLS\n",
       "14     MEMPHIS GRIZZLIES\n",
       "22    PHILADELPHIA 76ERS\n",
       "25      SACRAMENTO KINGS\n",
       "26     SAN ANTONIO SPURS\n",
       "Name: teams, dtype: object"
      ]
     },
     "execution_count": 51,
     "metadata": {},
     "output_type": "execute_result"
    }
   ],
   "source": [
    "insignificant_teams_diff_spread = spread_result_df[spread_result_df['p_values_diff_spread'] >= 0.05]['teams']\n",
    "insignificant_teams_diff_spread"
   ]
  },
  {
   "cell_type": "code",
   "execution_count": 52,
   "metadata": {},
   "outputs": [
    {
     "data": {
      "text/html": [
       "<div>\n",
       "<style>\n",
       "    .dataframe thead tr:only-child th {\n",
       "        text-align: right;\n",
       "    }\n",
       "\n",
       "    .dataframe thead th {\n",
       "        text-align: left;\n",
       "    }\n",
       "\n",
       "    .dataframe tbody tr th {\n",
       "        vertical-align: top;\n",
       "    }\n",
       "</style>\n",
       "<table border=\"1\" class=\"dataframe\">\n",
       "  <thead>\n",
       "    <tr style=\"text-align: right;\">\n",
       "      <th></th>\n",
       "      <th>TEAM</th>\n",
       "      <th>HOME SPREAD</th>\n",
       "      <th>AWAY SPREAD</th>\n",
       "      <th>DIFF IN SPREAD</th>\n",
       "      <th>p_value_diff_spread</th>\n",
       "    </tr>\n",
       "  </thead>\n",
       "  <tbody>\n",
       "    <tr>\n",
       "      <th>11</th>\n",
       "      <td>INDIANA PACERS</td>\n",
       "      <td>5.219512</td>\n",
       "      <td>-5.658537</td>\n",
       "      <td>10.878049</td>\n",
       "      <td>0.0000</td>\n",
       "    </tr>\n",
       "    <tr>\n",
       "      <th>13</th>\n",
       "      <td>LOS ANGELES LAKERS</td>\n",
       "      <td>-1.560976</td>\n",
       "      <td>-12.195122</td>\n",
       "      <td>10.634146</td>\n",
       "      <td>0.0000</td>\n",
       "    </tr>\n",
       "    <tr>\n",
       "      <th>20</th>\n",
       "      <td>OKLAHOMA CITY THUNDER</td>\n",
       "      <td>5.951220</td>\n",
       "      <td>-4.439024</td>\n",
       "      <td>10.390244</td>\n",
       "      <td>0.0000</td>\n",
       "    </tr>\n",
       "    <tr>\n",
       "      <th>8</th>\n",
       "      <td>DETROIT PISTONS</td>\n",
       "      <td>4.048780</td>\n",
       "      <td>-6.292683</td>\n",
       "      <td>10.341463</td>\n",
       "      <td>0.0018</td>\n",
       "    </tr>\n",
       "    <tr>\n",
       "      <th>5</th>\n",
       "      <td>CLEVELAND CAVALIERS</td>\n",
       "      <td>8.170732</td>\n",
       "      <td>-1.804878</td>\n",
       "      <td>9.975610</td>\n",
       "      <td>0.0002</td>\n",
       "    </tr>\n",
       "  </tbody>\n",
       "</table>\n",
       "</div>"
      ],
      "text/plain": [
       "                     TEAM  HOME SPREAD  AWAY SPREAD  DIFF IN SPREAD  \\\n",
       "11         INDIANA PACERS     5.219512    -5.658537       10.878049   \n",
       "13     LOS ANGELES LAKERS    -1.560976   -12.195122       10.634146   \n",
       "20  OKLAHOMA CITY THUNDER     5.951220    -4.439024       10.390244   \n",
       "8         DETROIT PISTONS     4.048780    -6.292683       10.341463   \n",
       "5     CLEVELAND CAVALIERS     8.170732    -1.804878        9.975610   \n",
       "\n",
       "    p_value_diff_spread  \n",
       "11               0.0000  \n",
       "13               0.0000  \n",
       "20               0.0000  \n",
       "8                0.0018  \n",
       "5                0.0002  "
      ]
     },
     "execution_count": 52,
     "metadata": {},
     "output_type": "execute_result"
    }
   ],
   "source": [
    "ordered_diff_spread_by_team_significant_teams = spread_by_team_significant_teams.sort_values('DIFF IN SPREAD', ascending = False)\n",
    "ordered_diff_spread_by_team_significant_teams.head()"
   ]
  },
  {
   "cell_type": "markdown",
   "metadata": {},
   "source": [
    "The hypothesis test run above is the same as running the test directly below:"
   ]
  },
  {
   "cell_type": "code",
   "execution_count": 53,
   "metadata": {
    "scrolled": true
   },
   "outputs": [
    {
     "data": {
      "image/png": "[encoded data removed]",
      "text/plain": [
       "<matplotlib.figure.Figure at 0x11e3edbe0>"
      ]
     },
     "metadata": {},
     "output_type": "display_data"
    }
   ],
   "source": [
    "(simulated_single_team_spread_diff, observed_gs_spread_diff) = permutation_test_continuous(cleaned_basketball_data[cleaned_basketball_data['TEAM'] == 'GOLDEN STATE WARRIORS'], 'SPREAD', 'HOME.TEAM', 5000)"
   ]
  },
  {
   "cell_type": "code",
   "execution_count": 54,
   "metadata": {},
   "outputs": [
    {
     "data": {
      "text/plain": [
       "0.0025999999999999999"
      ]
     },
     "execution_count": 54,
     "metadata": {},
     "output_type": "execute_result"
    }
   ],
   "source": [
    "p_value_gs_spread = get_p_value(simulated_single_team_spread_diff, observed_gs_spread_diff)\n",
    "p_value_gs_spread"
   ]
  },
  {
   "cell_type": "markdown",
   "metadata": {},
   "source": [
    "# Testing Other Statistics Besides Spread"
   ]
  },
  {
   "cell_type": "markdown",
   "metadata": {},
   "source": [
    "The Indiana Pacers is the team with the highest difference between the average home spread and the away home spread. We decided to look at factors that affect this statistic."
   ]
  },
  {
   "cell_type": "markdown",
   "metadata": {},
   "source": [
    "The 3 p-values tests below are the examples that demonstrate whether these statistics (\"PTS.TEAM\",'REB.TEAM' and \"AST.TEAM\") have a significance on impacting the difference in spread. Later in the notebook, a for loop will be run to demonstrate whether each single statistic in the csv file has an impact on the difference between the home and the away spread."
   ]
  },
  {
   "cell_type": "code",
   "execution_count": 55,
   "metadata": {
    "collapsed": true
   },
   "outputs": [],
   "source": [
    "(sim_stat_pacers_pts, observed_stat_pacers_pts) = permutation_test_continuous_2(cleaned_basketball_data[cleaned_basketball_data[\"TEAM\"] == \"INDIANA PACERS\"], 'PTS.TEAM', 'HOME.TEAM', 2000)"
   ]
  },
  {
   "cell_type": "code",
   "execution_count": 56,
   "metadata": {},
   "outputs": [
    {
     "data": {
      "text/plain": [
       "0.064000000000000001"
      ]
     },
     "execution_count": 56,
     "metadata": {},
     "output_type": "execute_result"
    }
   ],
   "source": [
    "p_value_pacers_pts = np.sum(sim_stat_pacers_pts > observed_stat_pacers_pts) / len(sim_stat_pacers_pts)\n",
    "p_value_pacers_pts"
   ]
  },
  {
   "cell_type": "code",
   "execution_count": 57,
   "metadata": {
    "collapsed": true
   },
   "outputs": [],
   "source": [
    "(sim_stat_pacers_reb, observed_stat_pacers_reb) = permutation_test_continuous_2(cleaned_basketball_data[cleaned_basketball_data[\"TEAM\"] == \"INDIANA PACERS\"], 'REB.TEAM', 'HOME.TEAM', 2000)"
   ]
  },
  {
   "cell_type": "code",
   "execution_count": 58,
   "metadata": {},
   "outputs": [
    {
     "data": {
      "text/plain": [
       "0.2535"
      ]
     },
     "execution_count": 58,
     "metadata": {},
     "output_type": "execute_result"
    }
   ],
   "source": [
    "p_value_pacers_reb = np.sum(sim_stat_pacers_reb > observed_stat_pacers_reb) / len(sim_stat_pacers_reb)\n",
    "p_value_pacers_reb"
   ]
  },
  {
   "cell_type": "code",
   "execution_count": 59,
   "metadata": {
    "collapsed": true,
    "scrolled": true
   },
   "outputs": [],
   "source": [
    "(sim_stat_pacers_ast, observed_stat_pacers_ast) = permutation_test_continuous_2(cleaned_basketball_data[cleaned_basketball_data[\"TEAM\"] == \"INDIANA PACERS\"], 'AST.TEAM', 'HOME.TEAM', 2000)"
   ]
  },
  {
   "cell_type": "code",
   "execution_count": 60,
   "metadata": {},
   "outputs": [
    {
     "data": {
      "text/plain": [
       "0.067500000000000004"
      ]
     },
     "execution_count": 60,
     "metadata": {},
     "output_type": "execute_result"
    }
   ],
   "source": [
    "p_value_pacers_ast = np.sum(sim_stat_pacers_ast > observed_stat_pacers_ast) / len(sim_stat_pacers_ast)\n",
    "p_value_pacers_ast"
   ]
  },
  {
   "cell_type": "markdown",
   "metadata": {
    "collapsed": true
   },
   "source": [
    "We needed to create the \"teams\" and \"stats\" arrays below to run some for loops to create the dataframes below."
   ]
  },
  {
   "cell_type": "code",
   "execution_count": 61,
   "metadata": {},
   "outputs": [
    {
     "data": {
      "text/plain": [
       "array(['ATLANTA HAWKS', 'BOSTON CELTICS', 'BROOKLYN NETS',\n",
       "       'CHARLOTTE HORNETS', 'CHICAGO BULLS', 'CLEVELAND CAVALIERS',\n",
       "       'DALLAS MAVERICKS', 'DENVER NUGGETS', 'DETROIT PISTONS',\n",
       "       'GOLDEN STATE WARRIORS', 'HOUSTON ROCKETS', 'INDIANA PACERS',\n",
       "       'LA CLIPPERS', 'LOS ANGELES LAKERS', 'MEMPHIS GRIZZLIES',\n",
       "       'MIAMI HEAT', 'MILWAUKEE BUCKS', 'MINNESOTA TIMBERWOLVES',\n",
       "       'NEW ORLEANS PELICANS', 'NEW YORK KNICKS', 'OKLAHOMA CITY THUNDER',\n",
       "       'ORLANDO MAGIC', 'PHILADELPHIA 76ERS', 'PHOENIX SUNS',\n",
       "       'PORTLAND TRAIL BLAZERS', 'SACRAMENTO KINGS', 'SAN ANTONIO SPURS',\n",
       "       'TORONTO RAPTORS', 'UTAH JAZZ', 'WASHINGTON WIZARDS'], dtype=object)"
      ]
     },
     "execution_count": 61,
     "metadata": {},
     "output_type": "execute_result"
    }
   ],
   "source": [
    "teams = np.unique(cleaned_basketball_data['TEAM'])\n",
    "teams"
   ]
  },
  {
   "cell_type": "code",
   "execution_count": 62,
   "metadata": {},
   "outputs": [
    {
     "data": {
      "text/plain": [
       "array(['FGM.TEAM', 'FGA.TEAM', 'X3PM.TEAM', 'X3PA.TEAM', 'FTA.TEAM',\n",
       "       'FTM.TEAM', 'OREB.TEAM', 'DREB.TEAM', 'REB.TEAM', 'AST.TEAM',\n",
       "       'TOV.TEAM', 'STL.TEAM', 'BLK.TEAM', 'PF.TEAM', 'PTS.TEAM',\n",
       "       'FG%.TEAM', 'X3FG%.TEAM'], \n",
       "      dtype='<U10')"
      ]
     },
     "execution_count": 62,
     "metadata": {},
     "output_type": "execute_result"
    }
   ],
   "source": [
    "stats = list(cleaned_basketball_data.columns[3:18]) + list(cleaned_basketball_data.columns[-3:-1])\n",
    "stats = np.array(stats)\n",
    "stats"
   ]
  },
  {
   "cell_type": "code",
   "execution_count": 63,
   "metadata": {
    "collapsed": true
   },
   "outputs": [],
   "source": [
    "p_value_stats_pacers_result_df = pd.read_csv(\"p_value_stats_pacers.csv\")"
   ]
  },
  {
   "cell_type": "markdown",
   "metadata": {},
   "source": [
    "The null and alternative hypotheses for the p-values in the table below are identical to our null and alternative hypotheses for hypothesis test 3, except change the team name to the Indiana Pacers, and change the spread statistic to the approriate statistic."
   ]
  },
  {
   "cell_type": "code",
   "execution_count": 64,
   "metadata": {},
   "outputs": [
    {
     "data": {
      "text/html": [
       "<div>\n",
       "<style>\n",
       "    .dataframe thead tr:only-child th {\n",
       "        text-align: right;\n",
       "    }\n",
       "\n",
       "    .dataframe thead th {\n",
       "        text-align: left;\n",
       "    }\n",
       "\n",
       "    .dataframe tbody tr th {\n",
       "        vertical-align: top;\n",
       "    }\n",
       "</style>\n",
       "<table border=\"1\" class=\"dataframe\">\n",
       "  <thead>\n",
       "    <tr style=\"text-align: right;\">\n",
       "      <th></th>\n",
       "      <th>p_values_pacers</th>\n",
       "      <th>stats</th>\n",
       "    </tr>\n",
       "  </thead>\n",
       "  <tbody>\n",
       "    <tr>\n",
       "      <th>0</th>\n",
       "      <td>0.0180</td>\n",
       "      <td>FGM.TEAM</td>\n",
       "    </tr>\n",
       "    <tr>\n",
       "      <th>1</th>\n",
       "      <td>0.1870</td>\n",
       "      <td>FGA.TEAM</td>\n",
       "    </tr>\n",
       "    <tr>\n",
       "      <th>2</th>\n",
       "      <td>0.3400</td>\n",
       "      <td>X3PM.TEAM</td>\n",
       "    </tr>\n",
       "    <tr>\n",
       "      <th>3</th>\n",
       "      <td>0.4770</td>\n",
       "      <td>X3PA.TEAM</td>\n",
       "    </tr>\n",
       "    <tr>\n",
       "      <th>4</th>\n",
       "      <td>0.2850</td>\n",
       "      <td>FTA.TEAM</td>\n",
       "    </tr>\n",
       "    <tr>\n",
       "      <th>5</th>\n",
       "      <td>0.2850</td>\n",
       "      <td>FTM.TEAM</td>\n",
       "    </tr>\n",
       "    <tr>\n",
       "      <th>6</th>\n",
       "      <td>0.1345</td>\n",
       "      <td>OREB.TEAM</td>\n",
       "    </tr>\n",
       "    <tr>\n",
       "      <th>7</th>\n",
       "      <td>0.0795</td>\n",
       "      <td>DREB.TEAM</td>\n",
       "    </tr>\n",
       "    <tr>\n",
       "      <th>8</th>\n",
       "      <td>0.2410</td>\n",
       "      <td>REB.TEAM</td>\n",
       "    </tr>\n",
       "    <tr>\n",
       "      <th>9</th>\n",
       "      <td>0.0580</td>\n",
       "      <td>AST.TEAM</td>\n",
       "    </tr>\n",
       "    <tr>\n",
       "      <th>10</th>\n",
       "      <td>0.0060</td>\n",
       "      <td>TOV.TEAM</td>\n",
       "    </tr>\n",
       "    <tr>\n",
       "      <th>11</th>\n",
       "      <td>0.3660</td>\n",
       "      <td>STL.TEAM</td>\n",
       "    </tr>\n",
       "    <tr>\n",
       "      <th>12</th>\n",
       "      <td>0.0010</td>\n",
       "      <td>BLK.TEAM</td>\n",
       "    </tr>\n",
       "    <tr>\n",
       "      <th>13</th>\n",
       "      <td>0.0550</td>\n",
       "      <td>PF.TEAM</td>\n",
       "    </tr>\n",
       "    <tr>\n",
       "      <th>14</th>\n",
       "      <td>0.0680</td>\n",
       "      <td>PTS.TEAM</td>\n",
       "    </tr>\n",
       "    <tr>\n",
       "      <th>15</th>\n",
       "      <td>0.0800</td>\n",
       "      <td>FG%.TEAM</td>\n",
       "    </tr>\n",
       "    <tr>\n",
       "      <th>16</th>\n",
       "      <td>0.3845</td>\n",
       "      <td>X3FG%.TEAM</td>\n",
       "    </tr>\n",
       "  </tbody>\n",
       "</table>\n",
       "</div>"
      ],
      "text/plain": [
       "    p_values_pacers       stats\n",
       "0            0.0180    FGM.TEAM\n",
       "1            0.1870    FGA.TEAM\n",
       "2            0.3400   X3PM.TEAM\n",
       "3            0.4770   X3PA.TEAM\n",
       "4            0.2850    FTA.TEAM\n",
       "5            0.2850    FTM.TEAM\n",
       "6            0.1345   OREB.TEAM\n",
       "7            0.0795   DREB.TEAM\n",
       "8            0.2410    REB.TEAM\n",
       "9            0.0580    AST.TEAM\n",
       "10           0.0060    TOV.TEAM\n",
       "11           0.3660    STL.TEAM\n",
       "12           0.0010    BLK.TEAM\n",
       "13           0.0550     PF.TEAM\n",
       "14           0.0680    PTS.TEAM\n",
       "15           0.0800    FG%.TEAM\n",
       "16           0.3845  X3FG%.TEAM"
      ]
     },
     "execution_count": 64,
     "metadata": {},
     "output_type": "execute_result"
    }
   ],
   "source": [
    "p_value_stats_pacers_result_df = p_value_stats_pacers_result_df.drop('Unnamed: 0', axis = 1)\n",
    "p_value_stats_pacers_result_df"
   ]
  },
  {
   "cell_type": "code",
   "execution_count": 65,
   "metadata": {},
   "outputs": [
    {
     "data": {
      "text/html": [
       "<div>\n",
       "<style>\n",
       "    .dataframe thead tr:only-child th {\n",
       "        text-align: right;\n",
       "    }\n",
       "\n",
       "    .dataframe thead th {\n",
       "        text-align: left;\n",
       "    }\n",
       "\n",
       "    .dataframe tbody tr th {\n",
       "        vertical-align: top;\n",
       "    }\n",
       "</style>\n",
       "<table border=\"1\" class=\"dataframe\">\n",
       "  <thead>\n",
       "    <tr style=\"text-align: right;\">\n",
       "      <th></th>\n",
       "      <th>p_values_pacers</th>\n",
       "      <th>stats</th>\n",
       "    </tr>\n",
       "  </thead>\n",
       "  <tbody>\n",
       "    <tr>\n",
       "      <th>0</th>\n",
       "      <td>0.018</td>\n",
       "      <td>FGM.TEAM</td>\n",
       "    </tr>\n",
       "    <tr>\n",
       "      <th>10</th>\n",
       "      <td>0.006</td>\n",
       "      <td>TOV.TEAM</td>\n",
       "    </tr>\n",
       "    <tr>\n",
       "      <th>12</th>\n",
       "      <td>0.001</td>\n",
       "      <td>BLK.TEAM</td>\n",
       "    </tr>\n",
       "  </tbody>\n",
       "</table>\n",
       "</div>"
      ],
      "text/plain": [
       "    p_values_pacers     stats\n",
       "0             0.018  FGM.TEAM\n",
       "10            0.006  TOV.TEAM\n",
       "12            0.001  BLK.TEAM"
      ]
     },
     "execution_count": 65,
     "metadata": {},
     "output_type": "execute_result"
    }
   ],
   "source": [
    "significant_p_value_stats_pacers = p_value_stats_pacers_result_df[p_value_stats_pacers_result_df[\"p_values_pacers\"]<0.05]\n",
    "significant_p_value_stats_pacers"
   ]
  },
  {
   "cell_type": "markdown",
   "metadata": {},
   "source": [
    "Viewing from the dataframe of the p-value of all statistics for Pacers, we can see that field goals made, turnovers, and blocks are three factors that may contribute to the difference between the home and away spread of Indiana Pacers."
   ]
  },
  {
   "cell_type": "markdown",
   "metadata": {},
   "source": [
    "We could only run the data fram below with 100 iterations for each statistic due to computation time constraints. Using this dataframe, we could perform similar analysis that we did for the pacers above, for any team in the NBA."
   ]
  },
  {
   "cell_type": "code",
   "execution_count": 67,
   "metadata": {},
   "outputs": [
    {
     "data": {
      "text/html": [
       "<div>\n",
       "<style>\n",
       "    .dataframe thead tr:only-child th {\n",
       "        text-align: right;\n",
       "    }\n",
       "\n",
       "    .dataframe thead th {\n",
       "        text-align: left;\n",
       "    }\n",
       "\n",
       "    .dataframe tbody tr th {\n",
       "        vertical-align: top;\n",
       "    }\n",
       "</style>\n",
       "<table border=\"1\" class=\"dataframe\">\n",
       "  <thead>\n",
       "    <tr style=\"text-align: right;\">\n",
       "      <th></th>\n",
       "      <th>stats</th>\n",
       "      <th>p-values ATLANTA HAWKS</th>\n",
       "      <th>p-values BOSTON CELTICS</th>\n",
       "      <th>p-values BROOKLYN NETS</th>\n",
       "      <th>p-values CHARLOTTE HORNETS</th>\n",
       "      <th>p-values CHICAGO BULLS</th>\n",
       "      <th>p-values CLEVELAND CAVALIERS</th>\n",
       "      <th>p-values DALLAS MAVERICKS</th>\n",
       "      <th>p-values DENVER NUGGETS</th>\n",
       "      <th>p-values DETROIT PISTONS</th>\n",
       "      <th>...</th>\n",
       "      <th>p-values OKLAHOMA CITY THUNDER</th>\n",
       "      <th>p-values ORLANDO MAGIC</th>\n",
       "      <th>p-values PHILADELPHIA 76ERS</th>\n",
       "      <th>p-values PHOENIX SUNS</th>\n",
       "      <th>p-values PORTLAND TRAIL BLAZERS</th>\n",
       "      <th>p-values SACRAMENTO KINGS</th>\n",
       "      <th>p-values SAN ANTONIO SPURS</th>\n",
       "      <th>p-values TORONTO RAPTORS</th>\n",
       "      <th>p-values UTAH JAZZ</th>\n",
       "      <th>p-values WASHINGTON WIZARDS</th>\n",
       "    </tr>\n",
       "  </thead>\n",
       "  <tbody>\n",
       "    <tr>\n",
       "      <th>0</th>\n",
       "      <td>FGM.TEAM</td>\n",
       "      <td>0.05</td>\n",
       "      <td>0.17</td>\n",
       "      <td>0.27</td>\n",
       "      <td>0.14</td>\n",
       "      <td>0.49</td>\n",
       "      <td>0.03</td>\n",
       "      <td>0.45</td>\n",
       "      <td>0.06</td>\n",
       "      <td>0.18</td>\n",
       "      <td>...</td>\n",
       "      <td>0.01</td>\n",
       "      <td>0.12</td>\n",
       "      <td>0.15</td>\n",
       "      <td>0.08</td>\n",
       "      <td>0.02</td>\n",
       "      <td>0.23</td>\n",
       "      <td>0.43</td>\n",
       "      <td>0.04</td>\n",
       "      <td>0.17</td>\n",
       "      <td>0.41</td>\n",
       "    </tr>\n",
       "    <tr>\n",
       "      <th>1</th>\n",
       "      <td>FGA.TEAM</td>\n",
       "      <td>0.10</td>\n",
       "      <td>0.19</td>\n",
       "      <td>0.26</td>\n",
       "      <td>0.28</td>\n",
       "      <td>0.04</td>\n",
       "      <td>0.26</td>\n",
       "      <td>0.29</td>\n",
       "      <td>0.36</td>\n",
       "      <td>0.37</td>\n",
       "      <td>...</td>\n",
       "      <td>0.43</td>\n",
       "      <td>0.18</td>\n",
       "      <td>0.15</td>\n",
       "      <td>0.43</td>\n",
       "      <td>0.20</td>\n",
       "      <td>0.15</td>\n",
       "      <td>0.26</td>\n",
       "      <td>0.33</td>\n",
       "      <td>0.04</td>\n",
       "      <td>0.11</td>\n",
       "    </tr>\n",
       "    <tr>\n",
       "      <th>2</th>\n",
       "      <td>X3PM.TEAM</td>\n",
       "      <td>0.43</td>\n",
       "      <td>0.05</td>\n",
       "      <td>0.47</td>\n",
       "      <td>0.35</td>\n",
       "      <td>0.38</td>\n",
       "      <td>0.35</td>\n",
       "      <td>0.30</td>\n",
       "      <td>0.15</td>\n",
       "      <td>0.09</td>\n",
       "      <td>...</td>\n",
       "      <td>0.20</td>\n",
       "      <td>0.17</td>\n",
       "      <td>0.20</td>\n",
       "      <td>0.10</td>\n",
       "      <td>0.04</td>\n",
       "      <td>0.01</td>\n",
       "      <td>0.03</td>\n",
       "      <td>0.14</td>\n",
       "      <td>0.04</td>\n",
       "      <td>0.02</td>\n",
       "    </tr>\n",
       "    <tr>\n",
       "      <th>3</th>\n",
       "      <td>X3PA.TEAM</td>\n",
       "      <td>0.37</td>\n",
       "      <td>0.43</td>\n",
       "      <td>0.26</td>\n",
       "      <td>0.38</td>\n",
       "      <td>0.04</td>\n",
       "      <td>0.43</td>\n",
       "      <td>0.14</td>\n",
       "      <td>0.24</td>\n",
       "      <td>0.34</td>\n",
       "      <td>...</td>\n",
       "      <td>0.19</td>\n",
       "      <td>0.09</td>\n",
       "      <td>0.23</td>\n",
       "      <td>0.23</td>\n",
       "      <td>0.11</td>\n",
       "      <td>0.08</td>\n",
       "      <td>0.36</td>\n",
       "      <td>0.07</td>\n",
       "      <td>0.13</td>\n",
       "      <td>0.16</td>\n",
       "    </tr>\n",
       "    <tr>\n",
       "      <th>4</th>\n",
       "      <td>FTA.TEAM</td>\n",
       "      <td>0.13</td>\n",
       "      <td>0.41</td>\n",
       "      <td>0.19</td>\n",
       "      <td>0.10</td>\n",
       "      <td>0.09</td>\n",
       "      <td>0.52</td>\n",
       "      <td>0.01</td>\n",
       "      <td>0.40</td>\n",
       "      <td>0.55</td>\n",
       "      <td>...</td>\n",
       "      <td>0.42</td>\n",
       "      <td>0.18</td>\n",
       "      <td>0.26</td>\n",
       "      <td>0.18</td>\n",
       "      <td>0.09</td>\n",
       "      <td>0.05</td>\n",
       "      <td>0.42</td>\n",
       "      <td>0.01</td>\n",
       "      <td>0.20</td>\n",
       "      <td>0.26</td>\n",
       "    </tr>\n",
       "    <tr>\n",
       "      <th>5</th>\n",
       "      <td>FTM.TEAM</td>\n",
       "      <td>0.06</td>\n",
       "      <td>0.39</td>\n",
       "      <td>0.25</td>\n",
       "      <td>0.00</td>\n",
       "      <td>0.06</td>\n",
       "      <td>0.29</td>\n",
       "      <td>0.00</td>\n",
       "      <td>0.44</td>\n",
       "      <td>0.29</td>\n",
       "      <td>...</td>\n",
       "      <td>0.44</td>\n",
       "      <td>0.15</td>\n",
       "      <td>0.28</td>\n",
       "      <td>0.40</td>\n",
       "      <td>0.24</td>\n",
       "      <td>0.21</td>\n",
       "      <td>0.45</td>\n",
       "      <td>0.01</td>\n",
       "      <td>0.06</td>\n",
       "      <td>0.38</td>\n",
       "    </tr>\n",
       "    <tr>\n",
       "      <th>6</th>\n",
       "      <td>OREB.TEAM</td>\n",
       "      <td>0.05</td>\n",
       "      <td>0.03</td>\n",
       "      <td>0.02</td>\n",
       "      <td>0.33</td>\n",
       "      <td>0.03</td>\n",
       "      <td>0.14</td>\n",
       "      <td>0.27</td>\n",
       "      <td>0.17</td>\n",
       "      <td>0.48</td>\n",
       "      <td>...</td>\n",
       "      <td>0.07</td>\n",
       "      <td>0.06</td>\n",
       "      <td>0.25</td>\n",
       "      <td>0.10</td>\n",
       "      <td>0.41</td>\n",
       "      <td>0.03</td>\n",
       "      <td>0.06</td>\n",
       "      <td>0.02</td>\n",
       "      <td>0.05</td>\n",
       "      <td>0.32</td>\n",
       "    </tr>\n",
       "    <tr>\n",
       "      <th>7</th>\n",
       "      <td>DREB.TEAM</td>\n",
       "      <td>0.07</td>\n",
       "      <td>0.23</td>\n",
       "      <td>0.23</td>\n",
       "      <td>0.38</td>\n",
       "      <td>0.48</td>\n",
       "      <td>0.03</td>\n",
       "      <td>0.00</td>\n",
       "      <td>0.42</td>\n",
       "      <td>0.02</td>\n",
       "      <td>...</td>\n",
       "      <td>0.09</td>\n",
       "      <td>0.20</td>\n",
       "      <td>0.12</td>\n",
       "      <td>0.03</td>\n",
       "      <td>0.41</td>\n",
       "      <td>0.48</td>\n",
       "      <td>0.25</td>\n",
       "      <td>0.30</td>\n",
       "      <td>0.16</td>\n",
       "      <td>0.27</td>\n",
       "    </tr>\n",
       "    <tr>\n",
       "      <th>8</th>\n",
       "      <td>REB.TEAM</td>\n",
       "      <td>0.40</td>\n",
       "      <td>0.02</td>\n",
       "      <td>0.04</td>\n",
       "      <td>0.40</td>\n",
       "      <td>0.16</td>\n",
       "      <td>0.00</td>\n",
       "      <td>0.00</td>\n",
       "      <td>0.20</td>\n",
       "      <td>0.00</td>\n",
       "      <td>...</td>\n",
       "      <td>0.38</td>\n",
       "      <td>0.04</td>\n",
       "      <td>0.27</td>\n",
       "      <td>0.00</td>\n",
       "      <td>0.43</td>\n",
       "      <td>0.18</td>\n",
       "      <td>0.31</td>\n",
       "      <td>0.05</td>\n",
       "      <td>0.51</td>\n",
       "      <td>0.45</td>\n",
       "    </tr>\n",
       "    <tr>\n",
       "      <th>9</th>\n",
       "      <td>AST.TEAM</td>\n",
       "      <td>0.03</td>\n",
       "      <td>0.00</td>\n",
       "      <td>0.30</td>\n",
       "      <td>0.01</td>\n",
       "      <td>0.02</td>\n",
       "      <td>0.00</td>\n",
       "      <td>0.44</td>\n",
       "      <td>0.00</td>\n",
       "      <td>0.00</td>\n",
       "      <td>...</td>\n",
       "      <td>0.09</td>\n",
       "      <td>0.14</td>\n",
       "      <td>0.00</td>\n",
       "      <td>0.12</td>\n",
       "      <td>0.04</td>\n",
       "      <td>0.48</td>\n",
       "      <td>0.00</td>\n",
       "      <td>0.08</td>\n",
       "      <td>0.26</td>\n",
       "      <td>0.03</td>\n",
       "    </tr>\n",
       "    <tr>\n",
       "      <th>10</th>\n",
       "      <td>TOV.TEAM</td>\n",
       "      <td>0.42</td>\n",
       "      <td>0.05</td>\n",
       "      <td>0.23</td>\n",
       "      <td>0.01</td>\n",
       "      <td>0.10</td>\n",
       "      <td>0.06</td>\n",
       "      <td>0.11</td>\n",
       "      <td>0.17</td>\n",
       "      <td>0.48</td>\n",
       "      <td>...</td>\n",
       "      <td>0.37</td>\n",
       "      <td>0.21</td>\n",
       "      <td>0.30</td>\n",
       "      <td>0.48</td>\n",
       "      <td>0.12</td>\n",
       "      <td>0.30</td>\n",
       "      <td>0.43</td>\n",
       "      <td>0.24</td>\n",
       "      <td>0.43</td>\n",
       "      <td>0.08</td>\n",
       "    </tr>\n",
       "    <tr>\n",
       "      <th>11</th>\n",
       "      <td>STL.TEAM</td>\n",
       "      <td>0.14</td>\n",
       "      <td>0.44</td>\n",
       "      <td>0.35</td>\n",
       "      <td>0.32</td>\n",
       "      <td>0.06</td>\n",
       "      <td>0.13</td>\n",
       "      <td>0.26</td>\n",
       "      <td>0.35</td>\n",
       "      <td>0.13</td>\n",
       "      <td>...</td>\n",
       "      <td>0.43</td>\n",
       "      <td>0.25</td>\n",
       "      <td>0.03</td>\n",
       "      <td>0.09</td>\n",
       "      <td>0.54</td>\n",
       "      <td>0.36</td>\n",
       "      <td>0.27</td>\n",
       "      <td>0.15</td>\n",
       "      <td>0.35</td>\n",
       "      <td>0.31</td>\n",
       "    </tr>\n",
       "    <tr>\n",
       "      <th>12</th>\n",
       "      <td>BLK.TEAM</td>\n",
       "      <td>0.26</td>\n",
       "      <td>0.05</td>\n",
       "      <td>0.24</td>\n",
       "      <td>0.00</td>\n",
       "      <td>0.20</td>\n",
       "      <td>0.03</td>\n",
       "      <td>0.51</td>\n",
       "      <td>0.28</td>\n",
       "      <td>0.41</td>\n",
       "      <td>...</td>\n",
       "      <td>0.35</td>\n",
       "      <td>0.06</td>\n",
       "      <td>0.11</td>\n",
       "      <td>0.00</td>\n",
       "      <td>0.20</td>\n",
       "      <td>0.14</td>\n",
       "      <td>0.27</td>\n",
       "      <td>0.01</td>\n",
       "      <td>0.14</td>\n",
       "      <td>0.14</td>\n",
       "    </tr>\n",
       "    <tr>\n",
       "      <th>13</th>\n",
       "      <td>PF.TEAM</td>\n",
       "      <td>0.19</td>\n",
       "      <td>0.02</td>\n",
       "      <td>0.33</td>\n",
       "      <td>0.04</td>\n",
       "      <td>0.12</td>\n",
       "      <td>0.01</td>\n",
       "      <td>0.02</td>\n",
       "      <td>0.15</td>\n",
       "      <td>0.43</td>\n",
       "      <td>...</td>\n",
       "      <td>0.05</td>\n",
       "      <td>0.34</td>\n",
       "      <td>0.22</td>\n",
       "      <td>0.20</td>\n",
       "      <td>0.02</td>\n",
       "      <td>0.35</td>\n",
       "      <td>0.10</td>\n",
       "      <td>0.31</td>\n",
       "      <td>0.12</td>\n",
       "      <td>0.34</td>\n",
       "    </tr>\n",
       "    <tr>\n",
       "      <th>14</th>\n",
       "      <td>PTS.TEAM</td>\n",
       "      <td>0.03</td>\n",
       "      <td>0.08</td>\n",
       "      <td>0.13</td>\n",
       "      <td>0.09</td>\n",
       "      <td>0.19</td>\n",
       "      <td>0.11</td>\n",
       "      <td>0.13</td>\n",
       "      <td>0.05</td>\n",
       "      <td>0.08</td>\n",
       "      <td>...</td>\n",
       "      <td>0.00</td>\n",
       "      <td>0.29</td>\n",
       "      <td>0.43</td>\n",
       "      <td>0.04</td>\n",
       "      <td>0.03</td>\n",
       "      <td>0.04</td>\n",
       "      <td>0.43</td>\n",
       "      <td>0.00</td>\n",
       "      <td>0.39</td>\n",
       "      <td>0.16</td>\n",
       "    </tr>\n",
       "    <tr>\n",
       "      <th>15</th>\n",
       "      <td>FG%.TEAM</td>\n",
       "      <td>0.18</td>\n",
       "      <td>0.33</td>\n",
       "      <td>0.04</td>\n",
       "      <td>0.11</td>\n",
       "      <td>0.19</td>\n",
       "      <td>0.07</td>\n",
       "      <td>0.35</td>\n",
       "      <td>0.06</td>\n",
       "      <td>0.09</td>\n",
       "      <td>...</td>\n",
       "      <td>0.00</td>\n",
       "      <td>0.15</td>\n",
       "      <td>0.41</td>\n",
       "      <td>0.10</td>\n",
       "      <td>0.05</td>\n",
       "      <td>0.15</td>\n",
       "      <td>0.27</td>\n",
       "      <td>0.02</td>\n",
       "      <td>0.24</td>\n",
       "      <td>0.08</td>\n",
       "    </tr>\n",
       "    <tr>\n",
       "      <th>16</th>\n",
       "      <td>X3FG%.TEAM</td>\n",
       "      <td>0.41</td>\n",
       "      <td>0.01</td>\n",
       "      <td>0.38</td>\n",
       "      <td>0.30</td>\n",
       "      <td>0.30</td>\n",
       "      <td>0.27</td>\n",
       "      <td>0.38</td>\n",
       "      <td>0.05</td>\n",
       "      <td>0.01</td>\n",
       "      <td>...</td>\n",
       "      <td>0.10</td>\n",
       "      <td>0.47</td>\n",
       "      <td>0.20</td>\n",
       "      <td>0.23</td>\n",
       "      <td>0.14</td>\n",
       "      <td>0.25</td>\n",
       "      <td>0.21</td>\n",
       "      <td>0.02</td>\n",
       "      <td>0.08</td>\n",
       "      <td>0.00</td>\n",
       "    </tr>\n",
       "  </tbody>\n",
       "</table>\n",
       "<p>17 rows × 31 columns</p>\n",
       "</div>"
      ],
      "text/plain": [
       "         stats  p-values ATLANTA HAWKS  p-values BOSTON CELTICS  \\\n",
       "0     FGM.TEAM                    0.05                     0.17   \n",
       "1     FGA.TEAM                    0.10                     0.19   \n",
       "2    X3PM.TEAM                    0.43                     0.05   \n",
       "3    X3PA.TEAM                    0.37                     0.43   \n",
       "4     FTA.TEAM                    0.13                     0.41   \n",
       "5     FTM.TEAM                    0.06                     0.39   \n",
       "6    OREB.TEAM                    0.05                     0.03   \n",
       "7    DREB.TEAM                    0.07                     0.23   \n",
       "8     REB.TEAM                    0.40                     0.02   \n",
       "9     AST.TEAM                    0.03                     0.00   \n",
       "10    TOV.TEAM                    0.42                     0.05   \n",
       "11    STL.TEAM                    0.14                     0.44   \n",
       "12    BLK.TEAM                    0.26                     0.05   \n",
       "13     PF.TEAM                    0.19                     0.02   \n",
       "14    PTS.TEAM                    0.03                     0.08   \n",
       "15    FG%.TEAM                    0.18                     0.33   \n",
       "16  X3FG%.TEAM                    0.41                     0.01   \n",
       "\n",
       "    p-values BROOKLYN NETS  p-values CHARLOTTE HORNETS  \\\n",
       "0                     0.27                        0.14   \n",
       "1                     0.26                        0.28   \n",
       "2                     0.47                        0.35   \n",
       "3                     0.26                        0.38   \n",
       "4                     0.19                        0.10   \n",
       "5                     0.25                        0.00   \n",
       "6                     0.02                        0.33   \n",
       "7                     0.23                        0.38   \n",
       "8                     0.04                        0.40   \n",
       "9                     0.30                        0.01   \n",
       "10                    0.23                        0.01   \n",
       "11                    0.35                        0.32   \n",
       "12                    0.24                        0.00   \n",
       "13                    0.33                        0.04   \n",
       "14                    0.13                        0.09   \n",
       "15                    0.04                        0.11   \n",
       "16                    0.38                        0.30   \n",
       "\n",
       "    p-values CHICAGO BULLS  p-values CLEVELAND CAVALIERS  \\\n",
       "0                     0.49                          0.03   \n",
       "1                     0.04                          0.26   \n",
       "2                     0.38                          0.35   \n",
       "3                     0.04                          0.43   \n",
       "4                     0.09                          0.52   \n",
       "5                     0.06                          0.29   \n",
       "6                     0.03                          0.14   \n",
       "7                     0.48                          0.03   \n",
       "8                     0.16                          0.00   \n",
       "9                     0.02                          0.00   \n",
       "10                    0.10                          0.06   \n",
       "11                    0.06                          0.13   \n",
       "12                    0.20                          0.03   \n",
       "13                    0.12                          0.01   \n",
       "14                    0.19                          0.11   \n",
       "15                    0.19                          0.07   \n",
       "16                    0.30                          0.27   \n",
       "\n",
       "    p-values DALLAS MAVERICKS  p-values DENVER NUGGETS  \\\n",
       "0                        0.45                     0.06   \n",
       "1                        0.29                     0.36   \n",
       "2                        0.30                     0.15   \n",
       "3                        0.14                     0.24   \n",
       "4                        0.01                     0.40   \n",
       "5                        0.00                     0.44   \n",
       "6                        0.27                     0.17   \n",
       "7                        0.00                     0.42   \n",
       "8                        0.00                     0.20   \n",
       "9                        0.44                     0.00   \n",
       "10                       0.11                     0.17   \n",
       "11                       0.26                     0.35   \n",
       "12                       0.51                     0.28   \n",
       "13                       0.02                     0.15   \n",
       "14                       0.13                     0.05   \n",
       "15                       0.35                     0.06   \n",
       "16                       0.38                     0.05   \n",
       "\n",
       "    p-values DETROIT PISTONS             ...               \\\n",
       "0                       0.18             ...                \n",
       "1                       0.37             ...                \n",
       "2                       0.09             ...                \n",
       "3                       0.34             ...                \n",
       "4                       0.55             ...                \n",
       "5                       0.29             ...                \n",
       "6                       0.48             ...                \n",
       "7                       0.02             ...                \n",
       "8                       0.00             ...                \n",
       "9                       0.00             ...                \n",
       "10                      0.48             ...                \n",
       "11                      0.13             ...                \n",
       "12                      0.41             ...                \n",
       "13                      0.43             ...                \n",
       "14                      0.08             ...                \n",
       "15                      0.09             ...                \n",
       "16                      0.01             ...                \n",
       "\n",
       "    p-values OKLAHOMA CITY THUNDER  p-values ORLANDO MAGIC  \\\n",
       "0                             0.01                    0.12   \n",
       "1                             0.43                    0.18   \n",
       "2                             0.20                    0.17   \n",
       "3                             0.19                    0.09   \n",
       "4                             0.42                    0.18   \n",
       "5                             0.44                    0.15   \n",
       "6                             0.07                    0.06   \n",
       "7                             0.09                    0.20   \n",
       "8                             0.38                    0.04   \n",
       "9                             0.09                    0.14   \n",
       "10                            0.37                    0.21   \n",
       "11                            0.43                    0.25   \n",
       "12                            0.35                    0.06   \n",
       "13                            0.05                    0.34   \n",
       "14                            0.00                    0.29   \n",
       "15                            0.00                    0.15   \n",
       "16                            0.10                    0.47   \n",
       "\n",
       "    p-values PHILADELPHIA 76ERS  p-values PHOENIX SUNS  \\\n",
       "0                          0.15                   0.08   \n",
       "1                          0.15                   0.43   \n",
       "2                          0.20                   0.10   \n",
       "3                          0.23                   0.23   \n",
       "4                          0.26                   0.18   \n",
       "5                          0.28                   0.40   \n",
       "6                          0.25                   0.10   \n",
       "7                          0.12                   0.03   \n",
       "8                          0.27                   0.00   \n",
       "9                          0.00                   0.12   \n",
       "10                         0.30                   0.48   \n",
       "11                         0.03                   0.09   \n",
       "12                         0.11                   0.00   \n",
       "13                         0.22                   0.20   \n",
       "14                         0.43                   0.04   \n",
       "15                         0.41                   0.10   \n",
       "16                         0.20                   0.23   \n",
       "\n",
       "    p-values PORTLAND TRAIL BLAZERS  p-values SACRAMENTO KINGS  \\\n",
       "0                              0.02                       0.23   \n",
       "1                              0.20                       0.15   \n",
       "2                              0.04                       0.01   \n",
       "3                              0.11                       0.08   \n",
       "4                              0.09                       0.05   \n",
       "5                              0.24                       0.21   \n",
       "6                              0.41                       0.03   \n",
       "7                              0.41                       0.48   \n",
       "8                              0.43                       0.18   \n",
       "9                              0.04                       0.48   \n",
       "10                             0.12                       0.30   \n",
       "11                             0.54                       0.36   \n",
       "12                             0.20                       0.14   \n",
       "13                             0.02                       0.35   \n",
       "14                             0.03                       0.04   \n",
       "15                             0.05                       0.15   \n",
       "16                             0.14                       0.25   \n",
       "\n",
       "    p-values SAN ANTONIO SPURS  p-values TORONTO RAPTORS  p-values UTAH JAZZ  \\\n",
       "0                         0.43                      0.04                0.17   \n",
       "1                         0.26                      0.33                0.04   \n",
       "2                         0.03                      0.14                0.04   \n",
       "3                         0.36                      0.07                0.13   \n",
       "4                         0.42                      0.01                0.20   \n",
       "5                         0.45                      0.01                0.06   \n",
       "6                         0.06                      0.02                0.05   \n",
       "7                         0.25                      0.30                0.16   \n",
       "8                         0.31                      0.05                0.51   \n",
       "9                         0.00                      0.08                0.26   \n",
       "10                        0.43                      0.24                0.43   \n",
       "11                        0.27                      0.15                0.35   \n",
       "12                        0.27                      0.01                0.14   \n",
       "13                        0.10                      0.31                0.12   \n",
       "14                        0.43                      0.00                0.39   \n",
       "15                        0.27                      0.02                0.24   \n",
       "16                        0.21                      0.02                0.08   \n",
       "\n",
       "    p-values WASHINGTON WIZARDS  \n",
       "0                          0.41  \n",
       "1                          0.11  \n",
       "2                          0.02  \n",
       "3                          0.16  \n",
       "4                          0.26  \n",
       "5                          0.38  \n",
       "6                          0.32  \n",
       "7                          0.27  \n",
       "8                          0.45  \n",
       "9                          0.03  \n",
       "10                         0.08  \n",
       "11                         0.31  \n",
       "12                         0.14  \n",
       "13                         0.34  \n",
       "14                         0.16  \n",
       "15                         0.08  \n",
       "16                         0.00  \n",
       "\n",
       "[17 rows x 31 columns]"
      ]
     },
     "execution_count": 67,
     "metadata": {},
     "output_type": "execute_result"
    }
   ],
   "source": [
    "full_result_df = pd.read_csv(\"full_results.csv\")\n",
    "full_result_df = full_result_df.drop('Unnamed: 0', axis = 1)\n",
    "full_result_df"
   ]
  },
  {
   "cell_type": "markdown",
   "metadata": {},
   "source": [
    "# Model Building for Pacers"
   ]
  },
  {
   "cell_type": "markdown",
   "metadata": {},
   "source": [
    "Now, we will build a model that will help us determine the factors that impact the Indiana Pacers' spread."
   ]
  },
  {
   "cell_type": "code",
   "execution_count": 68,
   "metadata": {
    "collapsed": true
   },
   "outputs": [],
   "source": [
    "cleaned_basketball_data_pacers = cleaned_basketball_data[cleaned_basketball_data['TEAM'] == 'INDIANA PACERS']"
   ]
  },
  {
   "cell_type": "markdown",
   "metadata": {},
   "source": [
    "We will look at the correlations between all of the boxscore statistics with the spread of the games for the Indiana Pacers."
   ]
  },
  {
   "cell_type": "code",
   "execution_count": 69,
   "metadata": {
    "collapsed": true
   },
   "outputs": [],
   "source": [
    "corr_with_spread_pacers = cleaned_basketball_data_pacers.corr()[\"SPREAD\"]"
   ]
  },
  {
   "cell_type": "markdown",
   "metadata": {},
   "source": [
    "In order to narrow down our choices for predictors while making sure every factor is relatively significant, we originally looked at predictors with a correlation of greater than 0.4 with spread."
   ]
  },
  {
   "cell_type": "code",
   "execution_count": 70,
   "metadata": {},
   "outputs": [
    {
     "data": {
      "text/plain": [
       "FGM.TEAM     0.426748\n",
       "DREB.TEAM    0.483224\n",
       "FGM.OPP     -0.596839\n",
       "AST.OPP     -0.593660\n",
       "PTS.OPP     -0.688580\n",
       "SPREAD       1.000000\n",
       "FG%.TEAM     0.450456\n",
       "Name: SPREAD, dtype: float64"
      ]
     },
     "execution_count": 70,
     "metadata": {},
     "output_type": "execute_result"
    }
   ],
   "source": [
    "significant_corr_with_spread_pacers = corr_with_spread_pacers[abs(corr_with_spread_pacers) > 0.4]\n",
    "significant_corr_with_spread_pacers"
   ]
  },
  {
   "cell_type": "markdown",
   "metadata": {},
   "source": [
    "We did not use the PTS.OPP or SPREAD predictors since those predictors either are the spread or are part of the equation for spread and we wanted to try to build a model to predict spread based off other components of the game."
   ]
  },
  {
   "cell_type": "code",
   "execution_count": 71,
   "metadata": {
    "collapsed": true
   },
   "outputs": [],
   "source": [
    "def standardize(anylist):\n",
    "    '''convert any array of numbers to std units '''\n",
    "    return (anylist - np.mean(anylist)) / np.std(anylist)"
   ]
  },
  {
   "cell_type": "code",
   "execution_count": 72,
   "metadata": {},
   "outputs": [
    {
     "data": {
      "text/plain": [
       "<matplotlib.collections.PathCollection at 0x11e789c88>"
      ]
     },
     "execution_count": 72,
     "metadata": {},
     "output_type": "execute_result"
    },
    {
     "data": {
      "image/png": "[encoded data removed]",
      "text/plain": [
       "<matplotlib.figure.Figure at 0x11e521c18>"
      ]
     },
     "metadata": {},
     "output_type": "display_data"
    }
   ],
   "source": [
    "scatter_plot_pacers = plt.figure(figsize = (18,18))\n",
    "\n",
    "spp1 = scatter_plot_pacers.add_subplot(3,2,1)\n",
    "spp1.set_title('Field Goals Made for Pacers vs. Spread for Pacers')\n",
    "spp1.set_ylabel('Spread')\n",
    "spp1.set_xlabel('Field Goals Made')\n",
    "spp1.scatter(standardize(cleaned_basketball_data_pacers['FGM.TEAM']), standardize(cleaned_basketball_data_pacers['SPREAD']))\n",
    "\n",
    "spp2 = scatter_plot_pacers.add_subplot(3,2,2)\n",
    "spp2.set_title('Defensive Rebounds for Pacers vs. Spread for Pacers')\n",
    "spp2.set_ylabel('Spread')\n",
    "spp2.set_xlabel('Defensive Rebounds')\n",
    "spp2.scatter(standardize(cleaned_basketball_data_pacers['DREB.TEAM']), standardize(cleaned_basketball_data_pacers['SPREAD']))\n",
    "\n",
    "spp3 = scatter_plot_pacers.add_subplot(3,2,3)\n",
    "spp3.set_title('Field Goals Made for Opponent vs. Spread for Pacers')\n",
    "spp3.set_ylabel('Spread')\n",
    "spp3.set_xlabel('Field Goals Made for Opponent')\n",
    "spp3.scatter(standardize(cleaned_basketball_data_pacers['FGM.OPP']), standardize(cleaned_basketball_data_pacers['SPREAD']))\n",
    "\n",
    "spp4 = scatter_plot_pacers.add_subplot(3,2,4)\n",
    "spp4.set_title('Assists for Opponenet vs. Spread for Pacers')\n",
    "spp4.set_ylabel('Spread')\n",
    "spp4.set_xlabel('Assists for Opponent')\n",
    "spp4.scatter(standardize(cleaned_basketball_data_pacers['AST.OPP']), standardize(cleaned_basketball_data_pacers['SPREAD']))\n",
    "\n",
    "spp5 = scatter_plot_pacers.add_subplot(3,2,5)\n",
    "spp5.set_title('Field Goal Percentage for Pacers vs. Spread for Pacers')\n",
    "spp5.set_ylabel('Spread')\n",
    "spp5.set_xlabel('Field Goal Percentage for Pacers')\n",
    "spp5.scatter(standardize(cleaned_basketball_data_pacers['FG%.TEAM']), standardize(cleaned_basketball_data_pacers['SPREAD']))\n",
    "\n",
    "spp6 = scatter_plot_pacers.add_subplot(3,2,6)\n",
    "spp6.set_title('Field Goal Percentage for Pacers vs. Field Goals Made for Pacers')\n",
    "spp6.set_ylabel('Field Goals Made')\n",
    "spp6.set_xlabel('Field Goal Percentage')\n",
    "spp6.scatter(standardize(cleaned_basketball_data_pacers['FG%.TEAM']), standardize(cleaned_basketball_data_pacers['FGM.TEAM']))"
   ]
  },
  {
   "cell_type": "code",
   "execution_count": 73,
   "metadata": {},
   "outputs": [
    {
     "data": {
      "text/plain": [
       "FGM.TEAM     0.752470\n",
       "FGA.TEAM    -0.292517\n",
       "X3PM.TEAM    0.200068\n",
       "X3PA.TEAM   -0.174488\n",
       "FTA.TEAM    -0.001503\n",
       "Name: FG%.TEAM, dtype: float64"
      ]
     },
     "execution_count": 73,
     "metadata": {},
     "output_type": "execute_result"
    }
   ],
   "source": [
    "cleaned_basketball_data_pacers.corr()['FG%.TEAM'].head()"
   ]
  },
  {
   "cell_type": "markdown",
   "metadata": {},
   "source": [
    "We also decided to remove FGM.TEAM from candidate predictors since it has a correlation of about 0.75 with FG%.TEAM and FG%.TEAM has a higher correlation with spread than FGM.TEAM does so we decided to use FG%.TEAM in our model instead of FGM.TEAM. Also, both these variables have somewhat linear relationships with spread based on the scatterplots, but we believe that the scatter plot for FG%.TEAM vs. Spread shows a more linear relationship than the scatter plot for FGM.TEAM vs. Spread. We also believe that the scatter plots for the other three variables (DREB.TEAM, FGM.OPP, AST.OPP) showed a somewhat linear relationship with the spread so we included them in our model as well."
   ]
  },
  {
   "cell_type": "code",
   "execution_count": 74,
   "metadata": {},
   "outputs": [
    {
     "name": "stderr",
     "output_type": "stream",
     "text": [
      "/Users/Jason/anaconda/lib/python3.6/site-packages/statsmodels/compat/pandas.py:56: FutureWarning:\n",
      "\n",
      "The pandas.core.datetools module is deprecated and will be removed in a future version. Please use the pandas.tseries module instead.\n",
      "\n"
     ]
    }
   ],
   "source": [
    "import statsmodels.api as sm"
   ]
  },
  {
   "cell_type": "code",
   "execution_count": 75,
   "metadata": {},
   "outputs": [
    {
     "data": {
      "text/html": [
       "<table class=\"simpletable\">\n",
       "<caption>OLS Regression Results</caption>\n",
       "<tr>\n",
       "  <th>Dep. Variable:</th>         <td>SPREAD</td>      <th>  R-squared:         </th> <td>   0.738</td>\n",
       "</tr>\n",
       "<tr>\n",
       "  <th>Model:</th>                   <td>OLS</td>       <th>  Adj. R-squared:    </th> <td>   0.725</td>\n",
       "</tr>\n",
       "<tr>\n",
       "  <th>Method:</th>             <td>Least Squares</td>  <th>  F-statistic:       </th> <td>   54.28</td>\n",
       "</tr>\n",
       "<tr>\n",
       "  <th>Date:</th>             <td>Fri, 15 Dec 2017</td> <th>  Prob (F-statistic):</th> <td>1.15e-21</td>\n",
       "</tr>\n",
       "<tr>\n",
       "  <th>Time:</th>                 <td>19:23:30</td>     <th>  Log-Likelihood:    </th> <td> -276.45</td>\n",
       "</tr>\n",
       "<tr>\n",
       "  <th>No. Observations:</th>      <td>    82</td>      <th>  AIC:               </th> <td>   562.9</td>\n",
       "</tr>\n",
       "<tr>\n",
       "  <th>Df Residuals:</th>          <td>    77</td>      <th>  BIC:               </th> <td>   574.9</td>\n",
       "</tr>\n",
       "<tr>\n",
       "  <th>Df Model:</th>              <td>     4</td>      <th>                     </th>     <td> </td>   \n",
       "</tr>\n",
       "<tr>\n",
       "  <th>Covariance Type:</th>      <td>nonrobust</td>    <th>                     </th>     <td> </td>   \n",
       "</tr>\n",
       "</table>\n",
       "<table class=\"simpletable\">\n",
       "<tr>\n",
       "      <td></td>         <th>coef</th>     <th>std err</th>      <th>t</th>      <th>P>|t|</th>  <th>[0.025</th>    <th>0.975]</th>  \n",
       "</tr>\n",
       "<tr>\n",
       "  <th>const</th>     <td>  -41.0628</td> <td>   11.223</td> <td>   -3.659</td> <td> 0.000</td> <td>  -63.410</td> <td>  -18.716</td>\n",
       "</tr>\n",
       "<tr>\n",
       "  <th>DREB.TEAM</th> <td>    0.7334</td> <td>    0.162</td> <td>    4.519</td> <td> 0.000</td> <td>    0.410</td> <td>    1.057</td>\n",
       "</tr>\n",
       "<tr>\n",
       "  <th>FGM.OPP</th>   <td>   -0.7984</td> <td>    0.226</td> <td>   -3.536</td> <td> 0.001</td> <td>   -1.248</td> <td>   -0.349</td>\n",
       "</tr>\n",
       "<tr>\n",
       "  <th>AST.OPP</th>   <td>   -0.7724</td> <td>    0.221</td> <td>   -3.489</td> <td> 0.001</td> <td>   -1.213</td> <td>   -0.332</td>\n",
       "</tr>\n",
       "<tr>\n",
       "  <th>FG%.TEAM</th>  <td>  137.9383</td> <td>   16.233</td> <td>    8.498</td> <td> 0.000</td> <td>  105.615</td> <td>  170.261</td>\n",
       "</tr>\n",
       "</table>\n",
       "<table class=\"simpletable\">\n",
       "<tr>\n",
       "  <th>Omnibus:</th>       <td> 4.111</td> <th>  Durbin-Watson:     </th> <td>   2.125</td>\n",
       "</tr>\n",
       "<tr>\n",
       "  <th>Prob(Omnibus):</th> <td> 0.128</td> <th>  Jarque-Bera (JB):  </th> <td>   2.462</td>\n",
       "</tr>\n",
       "<tr>\n",
       "  <th>Skew:</th>          <td>-0.203</td> <th>  Prob(JB):          </th> <td>   0.292</td>\n",
       "</tr>\n",
       "<tr>\n",
       "  <th>Kurtosis:</th>      <td> 2.255</td> <th>  Cond. No.          </th> <td>1.23e+03</td>\n",
       "</tr>\n",
       "</table>"
      ],
      "text/plain": [
       "<class 'statsmodels.iolib.summary.Summary'>\n",
       "\"\"\"\n",
       "                            OLS Regression Results                            \n",
       "==============================================================================\n",
       "Dep. Variable:                 SPREAD   R-squared:                       0.738\n",
       "Model:                            OLS   Adj. R-squared:                  0.725\n",
       "Method:                 Least Squares   F-statistic:                     54.28\n",
       "Date:                Fri, 15 Dec 2017   Prob (F-statistic):           1.15e-21\n",
       "Time:                        19:23:30   Log-Likelihood:                -276.45\n",
       "No. Observations:                  82   AIC:                             562.9\n",
       "Df Residuals:                      77   BIC:                             574.9\n",
       "Df Model:                           4                                         \n",
       "Covariance Type:            nonrobust                                         \n",
       "==============================================================================\n",
       "                 coef    std err          t      P>|t|      [0.025      0.975]\n",
       "------------------------------------------------------------------------------\n",
       "const        -41.0628     11.223     -3.659      0.000     -63.410     -18.716\n",
       "DREB.TEAM      0.7334      0.162      4.519      0.000       0.410       1.057\n",
       "FGM.OPP       -0.7984      0.226     -3.536      0.001      -1.248      -0.349\n",
       "AST.OPP       -0.7724      0.221     -3.489      0.001      -1.213      -0.332\n",
       "FG%.TEAM     137.9383     16.233      8.498      0.000     105.615     170.261\n",
       "==============================================================================\n",
       "Omnibus:                        4.111   Durbin-Watson:                   2.125\n",
       "Prob(Omnibus):                  0.128   Jarque-Bera (JB):                2.462\n",
       "Skew:                          -0.203   Prob(JB):                        0.292\n",
       "Kurtosis:                       2.255   Cond. No.                     1.23e+03\n",
       "==============================================================================\n",
       "\n",
       "Warnings:\n",
       "[1] Standard Errors assume that the covariance matrix of the errors is correctly specified.\n",
       "[2] The condition number is large, 1.23e+03. This might indicate that there are\n",
       "strong multicollinearity or other numerical problems.\n",
       "\"\"\""
      ]
     },
     "execution_count": 75,
     "metadata": {},
     "output_type": "execute_result"
    }
   ],
   "source": [
    "X = cleaned_basketball_data_pacers[['DREB.TEAM', 'FGM.OPP', 'AST.OPP', 'FG%.TEAM']]\n",
    "y = cleaned_basketball_data_pacers['SPREAD']  \n",
    "X = sm.add_constant(X)\n",
    "est = sm.OLS(y, X).fit()\n",
    "est.summary()"
   ]
  },
  {
   "cell_type": "markdown",
   "metadata": {},
   "source": [
    "Our final model for spread for the Indiana Pacers is:\n",
    "\n",
    "SPREAD = -41.0628 + 0.7334 x DREB.TEAM - 0.7984 x FGM.OPP - 0.7724 x AST.OPP + 137.9383 x FG%.TEAM"
   ]
  },
  {
   "cell_type": "markdown",
   "metadata": {},
   "source": [
    "# Model Building for the League"
   ]
  },
  {
   "cell_type": "code",
   "execution_count": 76,
   "metadata": {},
   "outputs": [
    {
     "data": {
      "text/plain": [
       "FGM.TEAM     0.511724\n",
       "FGA.TEAM    -0.008567\n",
       "X3PM.TEAM    0.351164\n",
       "X3PA.TEAM    0.069423\n",
       "FTA.TEAM     0.118424\n",
       "Name: SPREAD, dtype: float64"
      ]
     },
     "execution_count": 76,
     "metadata": {},
     "output_type": "execute_result"
    }
   ],
   "source": [
    "corr_with_spread_league = cleaned_basketball_data.corr()[\"SPREAD\"]\n",
    "corr_with_spread_league.head()"
   ]
  },
  {
   "cell_type": "code",
   "execution_count": 77,
   "metadata": {},
   "outputs": [
    {
     "data": {
      "text/plain": [
       "FGM.TEAM      0.511724\n",
       "DREB.TEAM     0.429891\n",
       "AST.TEAM      0.410650\n",
       "PTS.TEAM      0.577876\n",
       "FGM.OPP      -0.511724\n",
       "DREB.OPP     -0.429891\n",
       "AST.OPP      -0.410650\n",
       "PTS.OPP      -0.577876\n",
       "SPREAD        1.000000\n",
       "FG%.TEAM      0.559772\n",
       "X3FG%.TEAM    0.423253\n",
       "Name: SPREAD, dtype: float64"
      ]
     },
     "execution_count": 77,
     "metadata": {},
     "output_type": "execute_result"
    }
   ],
   "source": [
    "significant_corr_with_spread = corr_with_spread_league[abs(corr_with_spread_league) > 0.4]\n",
    "significant_corr_with_spread"
   ]
  },
  {
   "cell_type": "markdown",
   "metadata": {},
   "source": [
    "We did not use the PTS.TEAM, PTS.OPP or SPREAD predictors since those predictors either are the spread or are part of the equation for spread and we wanted to try to build a model to predict spread based off other components of the game. We also decided to remove FGM.TEAM from candidate predictors since it is correlated with FG%.TEAM and FG%.TEAM has a higher correlation with spread than FGM.TEAM does so we decided to use FG%.TEAM in our model instead of FGM.TEAM. We also removed X3FG%.TEAM from candidate predictors since it is part of the equation for FG%.TEAM and FG%.TEAM has a higher correlation with spread."
   ]
  },
  {
   "cell_type": "code",
   "execution_count": 78,
   "metadata": {
    "scrolled": true
   },
   "outputs": [
    {
     "data": {
      "text/plain": [
       "<matplotlib.collections.PathCollection at 0x121a0b128>"
      ]
     },
     "execution_count": 78,
     "metadata": {},
     "output_type": "execute_result"
    },
    {
     "data": {
      "image/png": "[encoded data removed]",
      "text/plain": [
       "<matplotlib.figure.Figure at 0x1216c94e0>"
      ]
     },
     "metadata": {},
     "output_type": "display_data"
    }
   ],
   "source": [
    "scatter_plot_league = plt.figure(figsize = (18,18))\n",
    "\n",
    "spl1 = scatter_plot_league.add_subplot(3,2,1)\n",
    "spl1.set_title('Defensive Rebounds vs. Spread')\n",
    "spl1.set_ylabel('Spread')\n",
    "spl1.set_xlabel('Defensive Rebounds')\n",
    "spl1.scatter(standardize(cleaned_basketball_data['DREB.TEAM']), standardize(cleaned_basketball_data['SPREAD']))\n",
    "\n",
    "spl2 = scatter_plot_league.add_subplot(3,2,2)\n",
    "spl2.set_title('Assists vs. Spread')\n",
    "spl2.set_ylabel('Spread')\n",
    "spl2.set_xlabel('Assists')\n",
    "spl2.scatter(standardize(cleaned_basketball_data['AST.TEAM']), standardize(cleaned_basketball_data['SPREAD']))\n",
    "\n",
    "spl3 = scatter_plot_league.add_subplot(3,2,3)\n",
    "spl3.set_title('Field Goals Made by Opponent vs. Spread')\n",
    "spl3.set_ylabel('Spread')\n",
    "spl3.set_xlabel('Field Goals Made by Opponent')\n",
    "spl3.scatter(standardize(cleaned_basketball_data['FGM.OPP']), standardize(cleaned_basketball_data['SPREAD']))\n",
    "\n",
    "spl4 = scatter_plot_league.add_subplot(3,2,4)\n",
    "spl4.set_title('Assits by Opponent vs. Spread')\n",
    "spl4.set_ylabel('Spread')\n",
    "spl4.set_xlabel('Assists by Opponent')\n",
    "spl4.scatter(standardize(cleaned_basketball_data['AST.OPP']), standardize(cleaned_basketball_data['SPREAD']))\n",
    "\n",
    "spl5 = scatter_plot_league.add_subplot(3,2,5)\n",
    "spl5.set_title('Defensive Rebounds by Opponent vs. Spread')\n",
    "spl5.set_ylabel('Spread')\n",
    "spl5.set_xlabel('Defensive Rebounds by Opponent')\n",
    "spl5.scatter(standardize(cleaned_basketball_data['DREB.OPP']), standardize(cleaned_basketball_data['SPREAD']))\n",
    "\n",
    "spl6 = scatter_plot_league.add_subplot(3,2,6)\n",
    "spl6.set_title('Field Goal Percentage vs. Spread')\n",
    "spl6.set_ylabel('Spread')\n",
    "spl6.set_xlabel('Field Goal Percentage')\n",
    "spl6.scatter(standardize(cleaned_basketball_data['FG%.TEAM']), standardize(cleaned_basketball_data['SPREAD']))"
   ]
  },
  {
   "cell_type": "code",
   "execution_count": 79,
   "metadata": {},
   "outputs": [
    {
     "data": {
      "text/html": [
       "<table class=\"simpletable\">\n",
       "<caption>OLS Regression Results</caption>\n",
       "<tr>\n",
       "  <th>Dep. Variable:</th>         <td>SPREAD</td>      <th>  R-squared:         </th> <td>   0.707</td> \n",
       "</tr>\n",
       "<tr>\n",
       "  <th>Model:</th>                   <td>OLS</td>       <th>  Adj. R-squared:    </th> <td>   0.706</td> \n",
       "</tr>\n",
       "<tr>\n",
       "  <th>Method:</th>             <td>Least Squares</td>  <th>  F-statistic:       </th> <td>   986.0</td> \n",
       "</tr>\n",
       "<tr>\n",
       "  <th>Date:</th>             <td>Fri, 15 Dec 2017</td> <th>  Prob (F-statistic):</th>  <td>  0.00</td>  \n",
       "</tr>\n",
       "<tr>\n",
       "  <th>Time:</th>                 <td>19:23:46</td>     <th>  Log-Likelihood:    </th> <td> -8479.9</td> \n",
       "</tr>\n",
       "<tr>\n",
       "  <th>No. Observations:</th>      <td>  2460</td>      <th>  AIC:               </th> <td>1.697e+04</td>\n",
       "</tr>\n",
       "<tr>\n",
       "  <th>Df Residuals:</th>          <td>  2453</td>      <th>  BIC:               </th> <td>1.701e+04</td>\n",
       "</tr>\n",
       "<tr>\n",
       "  <th>Df Model:</th>              <td>     6</td>      <th>                     </th>     <td> </td>    \n",
       "</tr>\n",
       "<tr>\n",
       "  <th>Covariance Type:</th>      <td>nonrobust</td>    <th>                     </th>     <td> </td>    \n",
       "</tr>\n",
       "</table>\n",
       "<table class=\"simpletable\">\n",
       "<tr>\n",
       "      <td></td>         <th>coef</th>     <th>std err</th>      <th>t</th>      <th>P>|t|</th>  <th>[0.025</th>    <th>0.975]</th>  \n",
       "</tr>\n",
       "<tr>\n",
       "  <th>const</th>     <td>  -25.4250</td> <td>    3.075</td> <td>   -8.270</td> <td> 0.000</td> <td>  -31.454</td> <td>  -19.396</td>\n",
       "</tr>\n",
       "<tr>\n",
       "  <th>DREB.TEAM</th> <td>    0.6986</td> <td>    0.032</td> <td>   21.679</td> <td> 0.000</td> <td>    0.635</td> <td>    0.762</td>\n",
       "</tr>\n",
       "<tr>\n",
       "  <th>AST.TEAM</th>  <td>    0.5441</td> <td>    0.036</td> <td>   15.152</td> <td> 0.000</td> <td>    0.474</td> <td>    0.615</td>\n",
       "</tr>\n",
       "<tr>\n",
       "  <th>FGM.OPP</th>   <td>   -1.0402</td> <td>    0.043</td> <td>  -24.438</td> <td> 0.000</td> <td>   -1.124</td> <td>   -0.957</td>\n",
       "</tr>\n",
       "<tr>\n",
       "  <th>AST.OPP</th>   <td>   -0.3588</td> <td>    0.038</td> <td>   -9.396</td> <td> 0.000</td> <td>   -0.434</td> <td>   -0.284</td>\n",
       "</tr>\n",
       "<tr>\n",
       "  <th>DREB.OPP</th>  <td>   -0.2742</td> <td>    0.041</td> <td>   -6.624</td> <td> 0.000</td> <td>   -0.355</td> <td>   -0.193</td>\n",
       "</tr>\n",
       "<tr>\n",
       "  <th>FG%.TEAM</th>  <td>  104.0646</td> <td>    4.560</td> <td>   22.820</td> <td> 0.000</td> <td>   95.122</td> <td>  113.007</td>\n",
       "</tr>\n",
       "</table>\n",
       "<table class=\"simpletable\">\n",
       "<tr>\n",
       "  <th>Omnibus:</th>       <td> 0.754</td> <th>  Durbin-Watson:     </th> <td>   2.066</td>\n",
       "</tr>\n",
       "<tr>\n",
       "  <th>Prob(Omnibus):</th> <td> 0.686</td> <th>  Jarque-Bera (JB):  </th> <td>   0.770</td>\n",
       "</tr>\n",
       "<tr>\n",
       "  <th>Skew:</th>          <td> 0.042</td> <th>  Prob(JB):          </th> <td>   0.680</td>\n",
       "</tr>\n",
       "<tr>\n",
       "  <th>Kurtosis:</th>      <td> 2.983</td> <th>  Cond. No.          </th> <td>2.34e+03</td>\n",
       "</tr>\n",
       "</table>"
      ],
      "text/plain": [
       "<class 'statsmodels.iolib.summary.Summary'>\n",
       "\"\"\"\n",
       "                            OLS Regression Results                            \n",
       "==============================================================================\n",
       "Dep. Variable:                 SPREAD   R-squared:                       0.707\n",
       "Model:                            OLS   Adj. R-squared:                  0.706\n",
       "Method:                 Least Squares   F-statistic:                     986.0\n",
       "Date:                Fri, 15 Dec 2017   Prob (F-statistic):               0.00\n",
       "Time:                        19:23:46   Log-Likelihood:                -8479.9\n",
       "No. Observations:                2460   AIC:                         1.697e+04\n",
       "Df Residuals:                    2453   BIC:                         1.701e+04\n",
       "Df Model:                           6                                         \n",
       "Covariance Type:            nonrobust                                         \n",
       "==============================================================================\n",
       "                 coef    std err          t      P>|t|      [0.025      0.975]\n",
       "------------------------------------------------------------------------------\n",
       "const        -25.4250      3.075     -8.270      0.000     -31.454     -19.396\n",
       "DREB.TEAM      0.6986      0.032     21.679      0.000       0.635       0.762\n",
       "AST.TEAM       0.5441      0.036     15.152      0.000       0.474       0.615\n",
       "FGM.OPP       -1.0402      0.043    -24.438      0.000      -1.124      -0.957\n",
       "AST.OPP       -0.3588      0.038     -9.396      0.000      -0.434      -0.284\n",
       "DREB.OPP      -0.2742      0.041     -6.624      0.000      -0.355      -0.193\n",
       "FG%.TEAM     104.0646      4.560     22.820      0.000      95.122     113.007\n",
       "==============================================================================\n",
       "Omnibus:                        0.754   Durbin-Watson:                   2.066\n",
       "Prob(Omnibus):                  0.686   Jarque-Bera (JB):                0.770\n",
       "Skew:                           0.042   Prob(JB):                        0.680\n",
       "Kurtosis:                       2.983   Cond. No.                     2.34e+03\n",
       "==============================================================================\n",
       "\n",
       "Warnings:\n",
       "[1] Standard Errors assume that the covariance matrix of the errors is correctly specified.\n",
       "[2] The condition number is large, 2.34e+03. This might indicate that there are\n",
       "strong multicollinearity or other numerical problems.\n",
       "\"\"\""
      ]
     },
     "execution_count": 79,
     "metadata": {},
     "output_type": "execute_result"
    }
   ],
   "source": [
    "X = cleaned_basketball_data[['DREB.TEAM', 'AST.TEAM', 'FGM.OPP', 'AST.OPP', 'DREB.OPP', 'FG%.TEAM']]\n",
    "y = cleaned_basketball_data['SPREAD']  \n",
    "X = sm.add_constant(X)\n",
    "est = sm.OLS(y, X).fit()\n",
    "est.summary()"
   ]
  },
  {
   "cell_type": "markdown",
   "metadata": {},
   "source": [
    "Therefore, our final model for spread across the league is:\n",
    "\n",
    "SPREAD = -25.4250 + 0.6986 x DREB.TEAM + 0.5441 x AST.TEAM -1.0402 x FGM.OPP -0.3588 x AST.OPP - 0.2742 x DREB.OPP + 104.0646 x FG%.TEAM"
   ]
  }
 ],
 "metadata": {
  "kernelspec": {
   "display_name": "Python 3",
   "language": "python",
   "name": "python3"
  },
  "language_info": {
   "codemirror_mode": {
    "name": "ipython",
    "version": 3
   },
   "file_extension": ".py",
   "mimetype": "text/x-python",
   "name": "python",
   "nbconvert_exporter": "python",
   "pygments_lexer": "ipython3",
   "version": "3.6.1"
  }
 },
 "nbformat": 4,
 "nbformat_minor": 1
}
